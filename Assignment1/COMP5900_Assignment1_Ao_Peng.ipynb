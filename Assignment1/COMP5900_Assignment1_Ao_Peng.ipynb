{
  "nbformat": 4,
  "nbformat_minor": 0,
  "metadata": {
    "colab": {
      "name": "COMP5900_Assignment1.ipynb",
      "provenance": [],
      "collapsed_sections": []
    },
    "kernelspec": {
      "display_name": "Python 3",
      "language": "python",
      "name": "python3"
    },
    "language_info": {
      "codemirror_mode": {
        "name": "ipython",
        "version": 3
      },
      "file_extension": ".py",
      "mimetype": "text/x-python",
      "name": "python",
      "nbconvert_exporter": "python",
      "pygments_lexer": "ipython3",
      "version": "3.8.3"
    },
    "accelerator": "GPU",
    "widgets": {
      "application/vnd.jupyter.widget-state+json": {
        "59ae701ee3bb4ece97c97934453f6ffe": {
          "model_module": "@jupyter-widgets/controls",
          "model_name": "HBoxModel",
          "state": {
            "_view_name": "HBoxView",
            "_dom_classes": [],
            "_model_name": "HBoxModel",
            "_view_module": "@jupyter-widgets/controls",
            "_model_module_version": "1.5.0",
            "_view_count": null,
            "_view_module_version": "1.5.0",
            "box_style": "",
            "layout": "IPY_MODEL_2b42f10f2cde4589be117773b594c95d",
            "_model_module": "@jupyter-widgets/controls",
            "children": [
              "IPY_MODEL_f528132fd68b4869b01cb5549b796e91",
              "IPY_MODEL_a02879265baf4476a76c067107dc922b"
            ]
          }
        },
        "2b42f10f2cde4589be117773b594c95d": {
          "model_module": "@jupyter-widgets/base",
          "model_name": "LayoutModel",
          "state": {
            "_view_name": "LayoutView",
            "grid_template_rows": null,
            "right": null,
            "justify_content": null,
            "_view_module": "@jupyter-widgets/base",
            "overflow": null,
            "_model_module_version": "1.2.0",
            "_view_count": null,
            "flex_flow": null,
            "width": null,
            "min_width": null,
            "border": null,
            "align_items": null,
            "bottom": null,
            "_model_module": "@jupyter-widgets/base",
            "top": null,
            "grid_column": null,
            "overflow_y": null,
            "overflow_x": null,
            "grid_auto_flow": null,
            "grid_area": null,
            "grid_template_columns": null,
            "flex": null,
            "_model_name": "LayoutModel",
            "justify_items": null,
            "grid_row": null,
            "max_height": null,
            "align_content": null,
            "visibility": null,
            "align_self": null,
            "height": null,
            "min_height": null,
            "padding": null,
            "grid_auto_rows": null,
            "grid_gap": null,
            "max_width": null,
            "order": null,
            "_view_module_version": "1.2.0",
            "grid_template_areas": null,
            "object_position": null,
            "object_fit": null,
            "grid_auto_columns": null,
            "margin": null,
            "display": null,
            "left": null
          }
        },
        "f528132fd68b4869b01cb5549b796e91": {
          "model_module": "@jupyter-widgets/controls",
          "model_name": "FloatProgressModel",
          "state": {
            "_view_name": "ProgressView",
            "style": "IPY_MODEL_f0273decc8064cd585928e9a9d2b287e",
            "_dom_classes": [],
            "description": "",
            "_model_name": "FloatProgressModel",
            "bar_style": "success",
            "max": 1,
            "_view_module": "@jupyter-widgets/controls",
            "_model_module_version": "1.5.0",
            "value": 1,
            "_view_count": null,
            "_view_module_version": "1.5.0",
            "orientation": "horizontal",
            "min": 0,
            "description_tooltip": null,
            "_model_module": "@jupyter-widgets/controls",
            "layout": "IPY_MODEL_7e13d769d1854e6db2c7960948571c8e"
          }
        },
        "a02879265baf4476a76c067107dc922b": {
          "model_module": "@jupyter-widgets/controls",
          "model_name": "HTMLModel",
          "state": {
            "_view_name": "HTMLView",
            "style": "IPY_MODEL_1c4fe4ea1a504046a3249910abe8011b",
            "_dom_classes": [],
            "description": "",
            "_model_name": "HTMLModel",
            "placeholder": "​",
            "_view_module": "@jupyter-widgets/controls",
            "_model_module_version": "1.5.0",
            "value": " 170500096/? [00:05&lt;00:00, 31104143.46it/s]",
            "_view_count": null,
            "_view_module_version": "1.5.0",
            "description_tooltip": null,
            "_model_module": "@jupyter-widgets/controls",
            "layout": "IPY_MODEL_41506cd8c45e409798f12d3fd458f4c4"
          }
        },
        "f0273decc8064cd585928e9a9d2b287e": {
          "model_module": "@jupyter-widgets/controls",
          "model_name": "ProgressStyleModel",
          "state": {
            "_view_name": "StyleView",
            "_model_name": "ProgressStyleModel",
            "description_width": "initial",
            "_view_module": "@jupyter-widgets/base",
            "_model_module_version": "1.5.0",
            "_view_count": null,
            "_view_module_version": "1.2.0",
            "bar_color": null,
            "_model_module": "@jupyter-widgets/controls"
          }
        },
        "7e13d769d1854e6db2c7960948571c8e": {
          "model_module": "@jupyter-widgets/base",
          "model_name": "LayoutModel",
          "state": {
            "_view_name": "LayoutView",
            "grid_template_rows": null,
            "right": null,
            "justify_content": null,
            "_view_module": "@jupyter-widgets/base",
            "overflow": null,
            "_model_module_version": "1.2.0",
            "_view_count": null,
            "flex_flow": null,
            "width": null,
            "min_width": null,
            "border": null,
            "align_items": null,
            "bottom": null,
            "_model_module": "@jupyter-widgets/base",
            "top": null,
            "grid_column": null,
            "overflow_y": null,
            "overflow_x": null,
            "grid_auto_flow": null,
            "grid_area": null,
            "grid_template_columns": null,
            "flex": null,
            "_model_name": "LayoutModel",
            "justify_items": null,
            "grid_row": null,
            "max_height": null,
            "align_content": null,
            "visibility": null,
            "align_self": null,
            "height": null,
            "min_height": null,
            "padding": null,
            "grid_auto_rows": null,
            "grid_gap": null,
            "max_width": null,
            "order": null,
            "_view_module_version": "1.2.0",
            "grid_template_areas": null,
            "object_position": null,
            "object_fit": null,
            "grid_auto_columns": null,
            "margin": null,
            "display": null,
            "left": null
          }
        },
        "1c4fe4ea1a504046a3249910abe8011b": {
          "model_module": "@jupyter-widgets/controls",
          "model_name": "DescriptionStyleModel",
          "state": {
            "_view_name": "StyleView",
            "_model_name": "DescriptionStyleModel",
            "description_width": "",
            "_view_module": "@jupyter-widgets/base",
            "_model_module_version": "1.5.0",
            "_view_count": null,
            "_view_module_version": "1.2.0",
            "_model_module": "@jupyter-widgets/controls"
          }
        },
        "41506cd8c45e409798f12d3fd458f4c4": {
          "model_module": "@jupyter-widgets/base",
          "model_name": "LayoutModel",
          "state": {
            "_view_name": "LayoutView",
            "grid_template_rows": null,
            "right": null,
            "justify_content": null,
            "_view_module": "@jupyter-widgets/base",
            "overflow": null,
            "_model_module_version": "1.2.0",
            "_view_count": null,
            "flex_flow": null,
            "width": null,
            "min_width": null,
            "border": null,
            "align_items": null,
            "bottom": null,
            "_model_module": "@jupyter-widgets/base",
            "top": null,
            "grid_column": null,
            "overflow_y": null,
            "overflow_x": null,
            "grid_auto_flow": null,
            "grid_area": null,
            "grid_template_columns": null,
            "flex": null,
            "_model_name": "LayoutModel",
            "justify_items": null,
            "grid_row": null,
            "max_height": null,
            "align_content": null,
            "visibility": null,
            "align_self": null,
            "height": null,
            "min_height": null,
            "padding": null,
            "grid_auto_rows": null,
            "grid_gap": null,
            "max_width": null,
            "order": null,
            "_view_module_version": "1.2.0",
            "grid_template_areas": null,
            "object_position": null,
            "object_fit": null,
            "grid_auto_columns": null,
            "margin": null,
            "display": null,
            "left": null
          }
        }
      }
    }
  },
  "cells": [
    {
      "cell_type": "markdown",
      "metadata": {
        "id": "tUjA0X_vURsr"
      },
      "source": [
        "#COMP5900 Assignment 1 (Supplementary Materials)\n",
        "Use this code to answer the questions in Assignment 1"
      ]
    },
    {
      "cell_type": "code",
      "metadata": {
        "colab": {
          "base_uri": "https://localhost:8080/"
        },
        "id": "BMx0A0q6UHby",
        "outputId": "2b68213d-8206-40fe-d211-513886700ade"
      },
      "source": [
        "import torch\n",
        "print(torch.__version__)"
      ],
      "execution_count": 1,
      "outputs": [
        {
          "output_type": "stream",
          "text": [
            "1.7.0+cu101\n"
          ],
          "name": "stdout"
        }
      ]
    },
    {
      "cell_type": "code",
      "metadata": {
        "colab": {
          "base_uri": "https://localhost:8080/",
          "height": 101,
          "referenced_widgets": [
            "59ae701ee3bb4ece97c97934453f6ffe",
            "2b42f10f2cde4589be117773b594c95d",
            "f528132fd68b4869b01cb5549b796e91",
            "a02879265baf4476a76c067107dc922b",
            "f0273decc8064cd585928e9a9d2b287e",
            "7e13d769d1854e6db2c7960948571c8e",
            "1c4fe4ea1a504046a3249910abe8011b",
            "41506cd8c45e409798f12d3fd458f4c4"
          ]
        },
        "id": "B8E8pTxz4Smw",
        "outputId": "cc081e35-5c73-444e-ab64-7e536374876f"
      },
      "source": [
        "import torch\n",
        "import torchvision\n",
        "import torchvision.transforms as transforms\n",
        "from torch.autograd import Variable\n",
        "torch.cuda.is_available()\n",
        "\n",
        "transform = transforms.Compose(\n",
        "    [transforms.ToTensor(),\n",
        "     transforms.Normalize((0.5, 0.5, 0.5), (0.5, 0.5, 0.5))])\n",
        "\n",
        "trainset = torchvision.datasets.CIFAR10(root='./data', train=True,\n",
        "                                        download=True, transform=transform)\n",
        "trainloader = torch.utils.data.DataLoader(trainset, batch_size=4,\n",
        "                                          shuffle=True, num_workers=2)\n",
        "\n",
        "testset = torchvision.datasets.CIFAR10(root='./data', train=False,\n",
        "                                       download=True, transform=transform)\n",
        "testloader = torch.utils.data.DataLoader(testset, batch_size=4,\n",
        "                                         shuffle=False, num_workers=2)\n",
        "\n",
        "classes = ('plane', 'car', 'bird', 'cat',\n",
        "           'deer', 'dog', 'frog', 'horse', 'ship', 'truck')"
      ],
      "execution_count": 2,
      "outputs": [
        {
          "output_type": "stream",
          "text": [
            "Downloading https://www.cs.toronto.edu/~kriz/cifar-10-python.tar.gz to ./data/cifar-10-python.tar.gz\n"
          ],
          "name": "stdout"
        },
        {
          "output_type": "display_data",
          "data": {
            "application/vnd.jupyter.widget-view+json": {
              "model_id": "59ae701ee3bb4ece97c97934453f6ffe",
              "version_minor": 0,
              "version_major": 2
            },
            "text/plain": [
              "HBox(children=(FloatProgress(value=1.0, bar_style='info', max=1.0), HTML(value='')))"
            ]
          },
          "metadata": {
            "tags": []
          }
        },
        {
          "output_type": "stream",
          "text": [
            "Extracting ./data/cifar-10-python.tar.gz to ./data\n",
            "Files already downloaded and verified\n"
          ],
          "name": "stdout"
        }
      ]
    },
    {
      "cell_type": "code",
      "metadata": {
        "colab": {
          "base_uri": "https://localhost:8080/"
        },
        "id": "F39JgDqw4mN3",
        "outputId": "4b08ce5e-980f-4373-9d25-d585c4928a18"
      },
      "source": [
        "import torch.nn as nn\n",
        "import torch.nn.functional as F\n",
        "\n",
        "class Net(nn.Module):\n",
        "    def __init__(self):\n",
        "        super(Net, self).__init__()\n",
        "        self.conv1 = nn.Conv2d(3, 6, 5)\n",
        "        self.pool = nn.MaxPool2d(2, 2)\n",
        "        self.conv2 = nn.Conv2d(6, 16, 5)\n",
        "        self.fc1 = nn.Linear(16 * 5 * \n",
        "                             , 120)\n",
        "        self.fc2 = nn.Linear(120, 120)\n",
        "        self.fc3 = nn.Linear(120, 10)\n",
        "\n",
        "    def forward(self, x):\n",
        "        x = self.pool(F.relu(self.conv1(x)))\n",
        "        x = self.pool(F.relu(self.conv2(x)))\n",
        "        x = x.view(-1, 16 * 5 * 5)\n",
        "        x = F.relu(self.fc1(x))\n",
        "        x = F.relu(self.fc2(x))\n",
        "        x = self.fc3(x)\n",
        "        return x\n",
        "print(Net())"
      ],
      "execution_count": 3,
      "outputs": [
        {
          "output_type": "stream",
          "text": [
            "\n",
            "Net(\n",
            "  (conv1): Conv2d(3, 6, kernel_size=(5, 5), stride=(1, 1))\n",
            "  (pool): MaxPool2d(kernel_size=2, stride=2, padding=0, dilation=1, ceil_mode=False)\n",
            "  (conv2): Conv2d(6, 16, kernel_size=(5, 5), stride=(1, 1))\n",
            "  (fc1): Linear(in_features=400, out_features=120, bias=True)\n",
            "  (fc2): Linear(in_features=120, out_features=120, bias=True)\n",
            "  (fc3): Linear(in_features=120, out_features=10, bias=True)\n",
            ")\n"
          ],
          "name": "stdout"
        }
      ]
    },
    {
      "cell_type": "code",
      "metadata": {
        "colab": {
          "base_uri": "https://localhost:8080/"
        },
        "id": "zWhZxxla4rTv",
        "outputId": "4f1ca8fb-9840-4a9e-d001-5ddb5aa20450"
      },
      "source": [
        "import torch.optim as optim\n",
        "net=Net()\n",
        "CUDA=torch.cuda.is_available()\n",
        "if CUDA:\n",
        "  net=net.cuda()\n",
        "\n",
        "# Let's first define our device as the first visible cuda device if we have\n",
        "# CUDA available:  \n",
        "device = torch.device(\"cuda:0\" if torch.cuda.is_available() else \"cpu\")\n",
        "\n",
        "# Assuming that we are on a CUDA machine, this should print a CUDA device:\n",
        "print(device)\n",
        "\n",
        "#In Colab, got to Edit>Notebook settings> choose Python 3. For the hardware\n",
        "#accelerator, you may select None or GPU.\n"
      ],
      "execution_count": 4,
      "outputs": [
        {
          "output_type": "stream",
          "text": [
            "cuda:0\n"
          ],
          "name": "stdout"
        }
      ]
    },
    {
      "cell_type": "code",
      "metadata": {
        "colab": {
          "base_uri": "https://localhost:8080/"
        },
        "id": "3gYlmnOXJEPX",
        "outputId": "3b6dc6db-3a37-445d-ec32-ab7baf3fdaa7"
      },
      "source": [
        "# 4. Train the network\n",
        "criterion = nn.CrossEntropyLoss()\n",
        "optimizer = optim.SGD(net.parameters(), lr=0.001, momentum=0.9)\n",
        "accuracy_values=[]\n",
        "epoch_number=[]\n",
        "for epoch in range(10):  # loop over the dataset multiple times. Here 10 means 10 epochs\n",
        "    running_loss = 0.0\n",
        "    for i, (inputs,labels) in enumerate(trainloader, 0):\n",
        "        # get the inputs; data is a list of [inputs, labels]\n",
        "        if CUDA:\n",
        "          inputs = inputs.cuda()\n",
        "          labels = labels.cuda()\n",
        "        else:\n",
        "          inputs = inputs.cpu()\n",
        "          labels = labels.cpu()        \n",
        "          \n",
        "        # zero the parameter gradients\n",
        "        optimizer.zero_grad()\n",
        "\n",
        "        # forward + backward + optimize\n",
        "        outputs = net(inputs)\n",
        "        loss = criterion(outputs, labels)\n",
        "        loss.backward()\n",
        "        optimizer.step()\n",
        "\n",
        "        # print statistics\n",
        "        running_loss += loss.item()\n",
        "        if i % 2000 == 1999:    # print every 2000 mini-batches\n",
        "            print('[epoch%d, itr%5d] loss: %.3f' %\n",
        "                  (epoch + 1, i + 1, running_loss / 2000))\n",
        "            running_loss = 0.0\n",
        "\n",
        "    correct = 0\n",
        "    total = 0\n",
        "    with torch.no_grad():\n",
        "        for images, labels in testloader:\n",
        "            if CUDA:\n",
        "              images = images.cuda()\n",
        "              labels = labels.cuda()\n",
        "            else:\n",
        "              images = images.cpu()\n",
        "              labels =labels.cpu()\n",
        "\n",
        "            outputs = net(images)\n",
        "            _, predicted = torch.max(outputs.data, 1)\n",
        "            total += labels.size(0)\n",
        "            if not CUDA:\n",
        "              correct += (predicted.cpu()==labels.cpu()).sum().item()\n",
        "            else:\n",
        "              correct += (predicted==labels).sum().item()\n",
        "            \n",
        "        TestAccuracy = 100 * correct / total;\n",
        "        epoch_number += [epoch+1]\n",
        "        accuracy_values += [TestAccuracy] \n",
        "        print('Epoch=%d Test Accuracy=%.3f' %\n",
        "                  (epoch + 1, TestAccuracy))\n",
        "    \n",
        "print('Finished Training')"
      ],
      "execution_count": 5,
      "outputs": [
        {
          "output_type": "stream",
          "text": [
            "[epoch1, itr 2000] loss: 2.174\n",
            "[epoch1, itr 4000] loss: 1.825\n",
            "[epoch1, itr 6000] loss: 1.651\n",
            "[epoch1, itr 8000] loss: 1.556\n",
            "[epoch1, itr10000] loss: 1.503\n",
            "[epoch1, itr12000] loss: 1.460\n",
            "Epoch=1 Test Accuracy=46.440\n",
            "[epoch2, itr 2000] loss: 1.387\n",
            "[epoch2, itr 4000] loss: 1.344\n",
            "[epoch2, itr 6000] loss: 1.327\n",
            "[epoch2, itr 8000] loss: 1.320\n",
            "[epoch2, itr10000] loss: 1.281\n",
            "[epoch2, itr12000] loss: 1.282\n",
            "Epoch=2 Test Accuracy=54.480\n",
            "[epoch3, itr 2000] loss: 1.203\n",
            "[epoch3, itr 4000] loss: 1.227\n",
            "[epoch3, itr 6000] loss: 1.188\n",
            "[epoch3, itr 8000] loss: 1.173\n",
            "[epoch3, itr10000] loss: 1.152\n",
            "[epoch3, itr12000] loss: 1.145\n",
            "Epoch=3 Test Accuracy=59.830\n",
            "[epoch4, itr 2000] loss: 1.089\n",
            "[epoch4, itr 4000] loss: 1.085\n",
            "[epoch4, itr 6000] loss: 1.083\n",
            "[epoch4, itr 8000] loss: 1.080\n",
            "[epoch4, itr10000] loss: 1.081\n",
            "[epoch4, itr12000] loss: 1.071\n",
            "Epoch=4 Test Accuracy=60.150\n",
            "[epoch5, itr 2000] loss: 1.009\n",
            "[epoch5, itr 4000] loss: 1.013\n",
            "[epoch5, itr 6000] loss: 1.032\n",
            "[epoch5, itr 8000] loss: 1.024\n",
            "[epoch5, itr10000] loss: 0.985\n",
            "[epoch5, itr12000] loss: 1.028\n",
            "Epoch=5 Test Accuracy=62.430\n",
            "[epoch6, itr 2000] loss: 0.932\n",
            "[epoch6, itr 4000] loss: 0.967\n",
            "[epoch6, itr 6000] loss: 0.935\n",
            "[epoch6, itr 8000] loss: 0.959\n",
            "[epoch6, itr10000] loss: 0.967\n",
            "[epoch6, itr12000] loss: 0.967\n",
            "Epoch=6 Test Accuracy=62.830\n",
            "[epoch7, itr 2000] loss: 0.849\n",
            "[epoch7, itr 4000] loss: 0.905\n",
            "[epoch7, itr 6000] loss: 0.908\n",
            "[epoch7, itr 8000] loss: 0.909\n",
            "[epoch7, itr10000] loss: 0.928\n",
            "[epoch7, itr12000] loss: 0.935\n",
            "Epoch=7 Test Accuracy=63.060\n",
            "[epoch8, itr 2000] loss: 0.832\n",
            "[epoch8, itr 4000] loss: 0.851\n",
            "[epoch8, itr 6000] loss: 0.857\n",
            "[epoch8, itr 8000] loss: 0.875\n",
            "[epoch8, itr10000] loss: 0.874\n",
            "[epoch8, itr12000] loss: 0.905\n",
            "Epoch=8 Test Accuracy=63.140\n",
            "[epoch9, itr 2000] loss: 0.796\n",
            "[epoch9, itr 4000] loss: 0.814\n",
            "[epoch9, itr 6000] loss: 0.814\n",
            "[epoch9, itr 8000] loss: 0.824\n",
            "[epoch9, itr10000] loss: 0.876\n",
            "[epoch9, itr12000] loss: 0.866\n",
            "Epoch=9 Test Accuracy=63.240\n",
            "[epoch10, itr 2000] loss: 0.756\n",
            "[epoch10, itr 4000] loss: 0.800\n",
            "[epoch10, itr 6000] loss: 0.813\n",
            "[epoch10, itr 8000] loss: 0.811\n",
            "[epoch10, itr10000] loss: 0.835\n",
            "[epoch10, itr12000] loss: 0.850\n",
            "Epoch=10 Test Accuracy=62.890\n",
            "Finished Training\n"
          ],
          "name": "stdout"
        }
      ]
    },
    {
      "cell_type": "code",
      "metadata": {
        "colab": {
          "base_uri": "https://localhost:8080/"
        },
        "id": "Dh1qGFbTXkUb",
        "outputId": "9cd503ca-ab53-4bc5-f121-3a960bcbb7a8"
      },
      "source": [
        "print (torch.cuda.is_available())\n",
        "print (torch.cuda.device_count())"
      ],
      "execution_count": 6,
      "outputs": [
        {
          "output_type": "stream",
          "text": [
            "True\n",
            "1\n"
          ],
          "name": "stdout"
        }
      ]
    },
    {
      "cell_type": "code",
      "metadata": {
        "colab": {
          "base_uri": "https://localhost:8080/"
        },
        "id": "nEIUWWLGv9ic",
        "outputId": "21bc9913-2a09-43e8-f8c3-8f26cf4c7849"
      },
      "source": [
        "epoch_number"
      ],
      "execution_count": 7,
      "outputs": [
        {
          "output_type": "execute_result",
          "data": {
            "text/plain": [
              "[1, 2, 3, 4, 5, 6, 7, 8, 9, 10]"
            ]
          },
          "metadata": {
            "tags": []
          },
          "execution_count": 7
        }
      ]
    },
    {
      "cell_type": "code",
      "metadata": {
        "colab": {
          "base_uri": "https://localhost:8080/",
          "height": 282
        },
        "id": "5TRFTQ1eYt4g",
        "outputId": "84632cdb-2dde-4183-d293-51bf752ad00a"
      },
      "source": [
        "import matplotlib.pyplot as plt\n",
        "import numpy as np\n",
        "\n",
        "print(accuracy_values)\n",
        "# Plot the data\n",
        "plt.plot(epoch_number, accuracy_values, label='CNN')\n",
        "\n",
        "# Add a legend\n",
        "plt.legend()\n",
        "\n",
        "# Show the plot\n",
        "plt.show()\n",
        "\n",
        "## Anything better than 10% accuracy (randomly picking a class out of 10 classes)\n",
        "# means the network has learned something."
      ],
      "execution_count": 8,
      "outputs": [
        {
          "output_type": "stream",
          "text": [
            "[46.44, 54.48, 59.83, 60.15, 62.43, 62.83, 63.06, 63.14, 63.24, 62.89]\n"
          ],
          "name": "stdout"
        },
        {
          "output_type": "display_data",
          "data": {
            "image/png": "[encoded data removed]",
            "text/plain": [
              "<Figure size 432x288 with 1 Axes>"
            ]
          },
          "metadata": {
            "tags": [],
            "needs_background": "light"
          }
        }
      ]
    },
    {
      "cell_type": "markdown",
      "metadata": {
        "id": "Y2nHrRZNRkD_"
      },
      "source": [
        "Network with 0 hidden layer\n",
        "\n",
        "Question: \n",
        "1. Pooling layer belongs to hidden layer or not?\n",
        "2. What is the size of the input data? [4 * 3 * 32 *32]\n",
        "3. What is the meaning of each number?\n",
        "4. Why I cannot use the dimension with (4 * 3 * 32 * 32, 10) in a FC layer?\n",
        "5. Why there is no activation function?\n",
        "\n"
      ]
    },
    {
      "cell_type": "code",
      "metadata": {
        "colab": {
          "base_uri": "https://localhost:8080/"
        },
        "id": "4dohqhoXRjm4",
        "outputId": "d07faeeb-eb0a-4ee5-fabb-f5d01ae39955"
      },
      "source": [
        "class Net_without_hidden_layer(nn.Module):\n",
        "    def __init__(self):\n",
        "        super(Net_without_hidden_layer, self).__init__()\n",
        "        # self.pool = nn.MaxPool2d(2, 2)\n",
        "        self.fc1 = nn.Linear(3*32*32, 10)\n",
        "        \n",
        "\n",
        "    def forward(self, x):\n",
        "        # x = self.pool(x)\n",
        "        # print(\"1 and {0}\".format(x.size()))\n",
        "        x = x.view(-1, 3*32*32)\n",
        "        # print(\"2 and {0}\".format(x.size()))\n",
        "        x = self.fc1(x)\n",
        "        return x\n",
        "print(Net_without_hidden_layer())"
      ],
      "execution_count": 9,
      "outputs": [
        {
          "output_type": "stream",
          "text": [
            "Net_without_hidden_layer(\n",
            "  (fc1): Linear(in_features=3072, out_features=10, bias=True)\n",
            ")\n"
          ],
          "name": "stdout"
        }
      ]
    },
    {
      "cell_type": "code",
      "metadata": {
        "id": "0VkV8YPDxLOB"
      },
      "source": [
        "net_no_h = Net_without_hidden_layer()\n",
        "if CUDA:\n",
        "  net_no_h = net_no_h.cuda()"
      ],
      "execution_count": 10,
      "outputs": []
    },
    {
      "cell_type": "code",
      "metadata": {
        "id": "jwxueLamOe-X",
        "colab": {
          "base_uri": "https://localhost:8080/"
        },
        "outputId": "b6be9a26-e68f-4cff-b2b6-8e9e3c3d9479"
      },
      "source": [
        "# Training step\n",
        "# criterion = nn.CrossEntropyLoss\n",
        "# optimizer = optim.SGD(net.parameters(), lr=0.001, momentum=0.9)\n",
        "accuracy_values_without_h = []\n",
        "\n",
        "for epoch in range(10):\n",
        "    running_loss = 0.0\n",
        "    for i, (inputs,labels) in enumerate(trainloader, 0):\n",
        "      # get the inputs; data is a list of [inputs, labels]\n",
        "      if CUDA:\n",
        "        inputs = inputs.cuda()\n",
        "        labels = labels.cuda()\n",
        "      else:\n",
        "        inputs = inputs.cpu()\n",
        "        labels = labels.cpu() \n",
        "      if i == 0:\n",
        "        print(inputs.size())\n",
        "        print(labels.size())\n",
        "\n",
        "      optimizer.zero_grad()\n",
        "      # print(\"input_size={0}\".format(inputs.size()))\n",
        "      outputs = net_no_h(inputs)\n",
        "      # print(\"outputs_size={0}\".format(outputs.size()))\n",
        "      # print(\"labels_size={0}\".format(labels.size()))\n",
        "      # print(torch.squeeze(labels).long().size())\n",
        "      loss = criterion(outputs, labels)\n",
        "      loss.backward()\n",
        "      optimizer.step() # how optimizer works?\n",
        "\n",
        "      running_loss += loss.item()\n",
        "      if i % 2000 == 1999:\n",
        "          print('[epoch%d, itr%5d] loss: %.3f' %\n",
        "              ( epoch + 1, i + 1, running_loss / 2000))\n",
        "          running_loss = 0.0\n",
        "\n",
        "    correct = 0\n",
        "    total = 0\n",
        "    with torch.no_grad():\n",
        "        for images, labels in testloader:\n",
        "            if CUDA:\n",
        "              images = images.cuda()\n",
        "              labels = labels.cuda()\n",
        "            else:\n",
        "              images = images.cuda()\n",
        "              labels = labels.cuda()\n",
        "\n",
        "            outputs = net_no_h(images)\n",
        "            _, predicted = torch.max(outputs.data, 1)\n",
        "            total += labels.size(0)\n",
        "            if not CUDA:\n",
        "              correct += (predicted.cpu() == labels.cpu()).sum().item()\n",
        "            else:\n",
        "              correct += (predicted == labels).sum().item()\n",
        "\n",
        "        TestAccuracy = 100 * correct / total\n",
        "        accuracy_values_without_h += [TestAccuracy]\n",
        "        print('Epoch=%d Test Accracy=%.3f' %(epoch+1, TestAccuracy))\n",
        "\n",
        "print('Finish Training (0 hidden layer)')\n",
        "\n"
      ],
      "execution_count": 11,
      "outputs": [
        {
          "output_type": "stream",
          "text": [
            "torch.Size([4, 3, 32, 32])\n",
            "torch.Size([4])\n",
            "[epoch1, itr 2000] loss: 2.396\n",
            "[epoch1, itr 4000] loss: 2.390\n",
            "[epoch1, itr 6000] loss: 2.396\n",
            "[epoch1, itr 8000] loss: 2.394\n",
            "[epoch1, itr10000] loss: 2.392\n",
            "[epoch1, itr12000] loss: 2.402\n",
            "Epoch=1 Test Accracy=7.200\n",
            "torch.Size([4, 3, 32, 32])\n",
            "torch.Size([4])\n",
            "[epoch2, itr 2000] loss: 2.398\n",
            "[epoch2, itr 4000] loss: 2.397\n",
            "[epoch2, itr 6000] loss: 2.395\n",
            "[epoch2, itr 8000] loss: 2.395\n",
            "[epoch2, itr10000] loss: 2.395\n",
            "[epoch2, itr12000] loss: 2.394\n",
            "Epoch=2 Test Accracy=7.200\n",
            "torch.Size([4, 3, 32, 32])\n",
            "torch.Size([4])\n",
            "[epoch3, itr 2000] loss: 2.395\n",
            "[epoch3, itr 4000] loss: 2.396\n",
            "[epoch3, itr 6000] loss: 2.395\n",
            "[epoch3, itr 8000] loss: 2.394\n",
            "[epoch3, itr10000] loss: 2.396\n",
            "[epoch3, itr12000] loss: 2.395\n",
            "Epoch=3 Test Accracy=7.200\n",
            "torch.Size([4, 3, 32, 32])\n",
            "torch.Size([4])\n",
            "[epoch4, itr 2000] loss: 2.395\n",
            "[epoch4, itr 4000] loss: 2.398\n",
            "[epoch4, itr 6000] loss: 2.396\n",
            "[epoch4, itr 8000] loss: 2.390\n",
            "[epoch4, itr10000] loss: 2.401\n",
            "[epoch4, itr12000] loss: 2.391\n",
            "Epoch=4 Test Accracy=7.200\n",
            "torch.Size([4, 3, 32, 32])\n",
            "torch.Size([4])\n",
            "[epoch5, itr 2000] loss: 2.392\n",
            "[epoch5, itr 4000] loss: 2.398\n",
            "[epoch5, itr 6000] loss: 2.393\n",
            "[epoch5, itr 8000] loss: 2.396\n",
            "[epoch5, itr10000] loss: 2.394\n",
            "[epoch5, itr12000] loss: 2.398\n",
            "Epoch=5 Test Accracy=7.200\n",
            "torch.Size([4, 3, 32, 32])\n",
            "torch.Size([4])\n",
            "[epoch6, itr 2000] loss: 2.391\n",
            "[epoch6, itr 4000] loss: 2.394\n",
            "[epoch6, itr 6000] loss: 2.397\n",
            "[epoch6, itr 8000] loss: 2.394\n",
            "[epoch6, itr10000] loss: 2.401\n",
            "[epoch6, itr12000] loss: 2.395\n",
            "Epoch=6 Test Accracy=7.200\n",
            "torch.Size([4, 3, 32, 32])\n",
            "torch.Size([4])\n",
            "[epoch7, itr 2000] loss: 2.393\n",
            "[epoch7, itr 4000] loss: 2.395\n",
            "[epoch7, itr 6000] loss: 2.396\n",
            "[epoch7, itr 8000] loss: 2.402\n",
            "[epoch7, itr10000] loss: 2.392\n",
            "[epoch7, itr12000] loss: 2.392\n",
            "Epoch=7 Test Accracy=7.200\n",
            "torch.Size([4, 3, 32, 32])\n",
            "torch.Size([4])\n",
            "[epoch8, itr 2000] loss: 2.393\n",
            "[epoch8, itr 4000] loss: 2.392\n",
            "[epoch8, itr 6000] loss: 2.395\n",
            "[epoch8, itr 8000] loss: 2.399\n",
            "[epoch8, itr10000] loss: 2.394\n",
            "[epoch8, itr12000] loss: 2.399\n",
            "Epoch=8 Test Accracy=7.200\n",
            "torch.Size([4, 3, 32, 32])\n",
            "torch.Size([4])\n",
            "[epoch9, itr 2000] loss: 2.397\n",
            "[epoch9, itr 4000] loss: 2.397\n",
            "[epoch9, itr 6000] loss: 2.393\n",
            "[epoch9, itr 8000] loss: 2.395\n",
            "[epoch9, itr10000] loss: 2.395\n",
            "[epoch9, itr12000] loss: 2.394\n",
            "Epoch=9 Test Accracy=7.200\n",
            "torch.Size([4, 3, 32, 32])\n",
            "torch.Size([4])\n",
            "[epoch10, itr 2000] loss: 2.394\n",
            "[epoch10, itr 4000] loss: 2.398\n",
            "[epoch10, itr 6000] loss: 2.402\n",
            "[epoch10, itr 8000] loss: 2.397\n",
            "[epoch10, itr10000] loss: 2.389\n",
            "[epoch10, itr12000] loss: 2.392\n",
            "Epoch=10 Test Accracy=7.200\n",
            "Finish Training (0 hidden layer)\n"
          ],
          "name": "stdout"
        }
      ]
    },
    {
      "cell_type": "markdown",
      "metadata": {
        "id": "ctZTpRhSSIwY"
      },
      "source": [
        "Network with 1 hidden layer"
      ]
    },
    {
      "cell_type": "code",
      "metadata": {
        "colab": {
          "base_uri": "https://localhost:8080/"
        },
        "id": "Fn1lNF9lSINC",
        "outputId": "c1999a5d-a306-4b70-b47d-a01c397c33e1"
      },
      "source": [
        "class Net_with_one_hidden_layer(nn.Module):\n",
        "    def __init__(self):\n",
        "        super(Net_with_one_hidden_layer, self).__init__()\n",
        "        # self.pool = nn.MaxPool2d(2, 2)\n",
        "        self.fc1 = nn.Linear(3*32*32, 120)\n",
        "        self.fc2 = nn.Linear(120, 10)\n",
        "\n",
        "\n",
        "    def forward(self, x):\n",
        "        # x = self.pool(x)\n",
        "        x = x.view(-1, 3*32*32) # I think it is to flatten the image to 1 dimension\n",
        "        x = F.relu(self.fc1(x))\n",
        "        x = self.fc2(x)\n",
        "        return x\n",
        "print(Net_with_one_hidden_layer())"
      ],
      "execution_count": 12,
      "outputs": [
        {
          "output_type": "stream",
          "text": [
            "Net_with_one_hidden_layer(\n",
            "  (fc1): Linear(in_features=3072, out_features=120, bias=True)\n",
            "  (fc2): Linear(in_features=120, out_features=10, bias=True)\n",
            ")\n"
          ],
          "name": "stdout"
        }
      ]
    },
    {
      "cell_type": "code",
      "metadata": {
        "id": "x-bhlYb7RUrb"
      },
      "source": [
        "net_with_1_h = Net_with_one_hidden_layer()\n",
        "if CUDA:\n",
        "    net_with_1_h = net_with_1_h.cuda()"
      ],
      "execution_count": 13,
      "outputs": []
    },
    {
      "cell_type": "code",
      "metadata": {
        "id": "TEAWoYiHRU7B",
        "colab": {
          "base_uri": "https://localhost:8080/"
        },
        "outputId": "104a7e98-abd1-46b3-e291-05d49bfc0e1d"
      },
      "source": [
        "# Training with 1 hidden layers\n",
        "# criterion is Cross Entropy loss\n",
        "# optimizer is SGD\n",
        "\n",
        "accuracy_values_1_h = []\n",
        "\n",
        "for epoch in range(10):\n",
        "    running_loss = 0.0\n",
        "    for i, (inputs, labels) in enumerate(trainloader, 0):\n",
        "        if CUDA:\n",
        "            inputs = inputs.cuda()\n",
        "            labels = labels.cuda()\n",
        "        else:\n",
        "            inputs = inputs.cpu()\n",
        "            labels = labels.cpu()\n",
        "        \n",
        "        optimizer.zero_grad()\n",
        "\n",
        "        outputs = net_with_1_h(inputs)\n",
        "        loss = criterion(outputs, labels)\n",
        "        loss.backward()\n",
        "        optimizer.step()\n",
        "\n",
        "        running_loss += loss.item()\n",
        "        if i % 2000 == 1999:\n",
        "            print('[epoch%d, itr%5d] loss: %.3f' % (epoch+1, i+1, running_loss/2000))\n",
        "            running_loss = 0.0\n",
        "\n",
        "    correct = 0\n",
        "    total = 0\n",
        "    count = 0\n",
        "    with torch.no_grad():\n",
        "        for image, labels in testloader:\n",
        "            count += 1\n",
        "            if CUDA:\n",
        "              images = images.cuda()\n",
        "              labels = labels.cuda()\n",
        "            else:\n",
        "              images = images.cpu()\n",
        "              labels =labels.cpu()\n",
        "            \n",
        "            outputs = net_with_1_h(images)\n",
        "            _, predicted = torch.max(outputs.data, 1)\n",
        "            total += labels.size(0)\n",
        "            if not CUDA:\n",
        "              correct += (predicted.cpu()==labels.cpu()).sum().item()\n",
        "            else:\n",
        "              correct += (predicted==labels).sum().item()\n",
        "          \n",
        "        TestAccuracy = 100 * correct / total\n",
        "        accuracy_values_1_h += [TestAccuracy]\n",
        "        print('Epoch=%d Test Accuracy=%.3f' % (epoch+1, TestAccuracy))\n",
        "\n",
        "print('Finished Training with 1 hidden layer')\n",
        "  "
      ],
      "execution_count": 14,
      "outputs": [
        {
          "output_type": "stream",
          "text": [
            "[epoch1, itr 2000] loss: 2.312\n",
            "[epoch1, itr 4000] loss: 2.311\n",
            "[epoch1, itr 6000] loss: 2.312\n",
            "[epoch1, itr 8000] loss: 2.314\n",
            "[epoch1, itr10000] loss: 2.315\n",
            "[epoch1, itr12000] loss: 2.313\n",
            "1\n",
            "4\n",
            "2\n",
            "4\n",
            "Epoch=1 Test Accuracy=10.290\n",
            "[epoch2, itr 2000] loss: 2.312\n",
            "[epoch2, itr 4000] loss: 2.313\n",
            "[epoch2, itr 6000] loss: 2.311\n",
            "[epoch2, itr 8000] loss: 2.316\n",
            "[epoch2, itr10000] loss: 2.311\n",
            "[epoch2, itr12000] loss: 2.314\n",
            "1\n",
            "4\n",
            "2\n",
            "4\n",
            "Epoch=2 Test Accuracy=10.290\n",
            "[epoch3, itr 2000] loss: 2.314\n",
            "[epoch3, itr 4000] loss: 2.312\n",
            "[epoch3, itr 6000] loss: 2.314\n",
            "[epoch3, itr 8000] loss: 2.315\n",
            "[epoch3, itr10000] loss: 2.310\n",
            "[epoch3, itr12000] loss: 2.312\n",
            "1\n",
            "4\n",
            "2\n",
            "4\n",
            "Epoch=3 Test Accuracy=10.290\n",
            "[epoch4, itr 2000] loss: 2.312\n",
            "[epoch4, itr 4000] loss: 2.311\n",
            "[epoch4, itr 6000] loss: 2.312\n",
            "[epoch4, itr 8000] loss: 2.311\n",
            "[epoch4, itr10000] loss: 2.314\n",
            "[epoch4, itr12000] loss: 2.316\n",
            "1\n",
            "4\n",
            "2\n",
            "4\n",
            "Epoch=4 Test Accuracy=10.290\n",
            "[epoch5, itr 2000] loss: 2.314\n",
            "[epoch5, itr 4000] loss: 2.314\n",
            "[epoch5, itr 6000] loss: 2.311\n",
            "[epoch5, itr 8000] loss: 2.314\n",
            "[epoch5, itr10000] loss: 2.312\n",
            "[epoch5, itr12000] loss: 2.313\n",
            "1\n",
            "4\n",
            "2\n",
            "4\n",
            "Epoch=5 Test Accuracy=10.290\n",
            "[epoch6, itr 2000] loss: 2.311\n",
            "[epoch6, itr 4000] loss: 2.312\n",
            "[epoch6, itr 6000] loss: 2.314\n",
            "[epoch6, itr 8000] loss: 2.314\n",
            "[epoch6, itr10000] loss: 2.315\n",
            "[epoch6, itr12000] loss: 2.312\n",
            "1\n",
            "4\n",
            "2\n",
            "4\n",
            "Epoch=6 Test Accuracy=10.290\n",
            "[epoch7, itr 2000] loss: 2.311\n",
            "[epoch7, itr 4000] loss: 2.312\n",
            "[epoch7, itr 6000] loss: 2.313\n",
            "[epoch7, itr 8000] loss: 2.312\n",
            "[epoch7, itr10000] loss: 2.313\n",
            "[epoch7, itr12000] loss: 2.315\n",
            "1\n",
            "4\n",
            "2\n",
            "4\n",
            "Epoch=7 Test Accuracy=10.290\n",
            "[epoch8, itr 2000] loss: 2.311\n",
            "[epoch8, itr 4000] loss: 2.313\n",
            "[epoch8, itr 6000] loss: 2.312\n",
            "[epoch8, itr 8000] loss: 2.314\n",
            "[epoch8, itr10000] loss: 2.314\n",
            "[epoch8, itr12000] loss: 2.312\n",
            "1\n",
            "4\n",
            "2\n",
            "4\n",
            "Epoch=8 Test Accuracy=10.290\n",
            "[epoch9, itr 2000] loss: 2.311\n",
            "[epoch9, itr 4000] loss: 2.312\n",
            "[epoch9, itr 6000] loss: 2.313\n",
            "[epoch9, itr 8000] loss: 2.316\n",
            "[epoch9, itr10000] loss: 2.311\n",
            "[epoch9, itr12000] loss: 2.313\n",
            "1\n",
            "4\n",
            "2\n",
            "4\n",
            "Epoch=9 Test Accuracy=10.290\n",
            "[epoch10, itr 2000] loss: 2.311\n",
            "[epoch10, itr 4000] loss: 2.312\n",
            "[epoch10, itr 6000] loss: 2.315\n",
            "[epoch10, itr 8000] loss: 2.312\n",
            "[epoch10, itr10000] loss: 2.311\n",
            "[epoch10, itr12000] loss: 2.315\n",
            "1\n",
            "4\n",
            "2\n",
            "4\n",
            "Epoch=10 Test Accuracy=10.290\n",
            "Finished Training with 1 hidden layer\n"
          ],
          "name": "stdout"
        }
      ]
    },
    {
      "cell_type": "markdown",
      "metadata": {
        "id": "W9q69MUMTNf5"
      },
      "source": [
        "Newwork with 2 hidden layers\n"
      ]
    },
    {
      "cell_type": "code",
      "metadata": {
        "id": "joGRppLZTRUM",
        "colab": {
          "base_uri": "https://localhost:8080/"
        },
        "outputId": "ce1300eb-7ccd-4376-edd3-14af93de1d06"
      },
      "source": [
        "class Net_with_two_hidden_layer(nn.Module):\n",
        "    def __init__(self):\n",
        "        super(Net_with_two_hidden_layer, self).__init__()\n",
        "        # self.pool = nn.MaxPool2d(2, 2)\n",
        "        self.fc1 = nn.Linear(3*32*32, 120)\n",
        "        self.fc2 = nn.Linear(120, 120)\n",
        "        self.fc3 = nn.Linear(120, 10)\n",
        "      \n",
        "\n",
        "\n",
        "\n",
        "    def forward(self, x):\n",
        "        # x = self.pool(x)\n",
        "        x = x.view(-1, 3*32*32)\n",
        "        x = F.relu(self.fc1(x))\n",
        "        x = F.relu(self.fc2(x))\n",
        "        x = self.fc3(x)\n",
        "        return x\n",
        "print(Net_with_two_hidden_layer())"
      ],
      "execution_count": 15,
      "outputs": [
        {
          "output_type": "stream",
          "text": [
            "Net_with_two_hidden_layer(\n",
            "  (fc1): Linear(in_features=3072, out_features=120, bias=True)\n",
            "  (fc2): Linear(in_features=120, out_features=120, bias=True)\n",
            "  (fc3): Linear(in_features=120, out_features=10, bias=True)\n",
            ")\n"
          ],
          "name": "stdout"
        }
      ]
    },
    {
      "cell_type": "code",
      "metadata": {
        "id": "l7RLxh4sMGVC"
      },
      "source": [
        "net_with_2_h = Net_with_two_hidden_layer()\n",
        "if CUDA:\n",
        "  net_with_2_h = net_with_2_h.cuda()\n",
        "  "
      ],
      "execution_count": 16,
      "outputs": []
    },
    {
      "cell_type": "code",
      "metadata": {
        "colab": {
          "base_uri": "https://localhost:8080/"
        },
        "id": "RSZYijeZJ2Hs",
        "outputId": "ebc3524e-aed5-4fe6-8405-3cbd42bba61f"
      },
      "source": [
        "# Training with 2 hidden layers\n",
        "# criterion is Cross Entropy loss\n",
        "# optimizer is SGD\n",
        "\n",
        "accuracy_values_2_h = []\n",
        "\n",
        "for epoch in range(10):\n",
        "    running_loss = 0.0\n",
        "    for i, (inputs, labels) in enumerate(trainloader, 0):\n",
        "        if CUDA:\n",
        "            inputs = inputs.cuda()\n",
        "            labels = labels.cuda()\n",
        "        else:\n",
        "            inputs = inputs.cpu()\n",
        "            labels = labels.cpu()\n",
        "        \n",
        "        optimizer.zero_grad()\n",
        "\n",
        "        outputs = net_with_2_h(inputs)\n",
        "        loss = criterion(outputs, labels)\n",
        "        loss.backward()\n",
        "        optimizer.step()\n",
        "\n",
        "        running_loss += loss.item()\n",
        "        if i % 2000 == 1999:\n",
        "            print('[epoch%d, itr%5d] loss: %.3f' % (epoch+1, i+1, running_loss/2000))\n",
        "            running_loss = 0.0\n",
        "\n",
        "    correct = 0\n",
        "    total = 0\n",
        "    count = 0\n",
        "    with torch.no_grad():\n",
        "        for image, labels in testloader:\n",
        "            count += 1\n",
        "            if CUDA:\n",
        "                images = images.cuda()\n",
        "                labels = labels.cuda()\n",
        "            else:\n",
        "                images = images.cpu()\n",
        "                labels =labels.cpu()\n",
        "            \n",
        "            outputs = net_with_2_h(images)\n",
        "            _, predicted = torch.max(outputs.data, 1)\n",
        "            total += labels.size(0)\n",
        "            if not CUDA:\n",
        "                correct += (predicted.cpu()==labels.cpu()).sum().item()\n",
        "            else:\n",
        "                correct += (predicted==labels).sum().item()\n",
        "        \n",
        "        TestAccuracy = 100 * correct / total\n",
        "        accuracy_values_2_h += [TestAccuracy]\n",
        "        print('Epoch=%d Test Accuracy=%.3f' % (epoch+1, TestAccuracy))\n",
        "\n",
        "print('Finished Training with 2 hidden layer')\n",
        "  "
      ],
      "execution_count": 17,
      "outputs": [
        {
          "output_type": "stream",
          "text": [
            "[epoch1, itr 2000] loss: 2.307\n",
            "[epoch1, itr 4000] loss: 2.306\n",
            "[epoch1, itr 6000] loss: 2.307\n",
            "[epoch1, itr 8000] loss: 2.307\n",
            "[epoch1, itr10000] loss: 2.307\n",
            "[epoch1, itr12000] loss: 2.306\n",
            "Epoch=1 Test Accuracy=10.000\n",
            "[epoch2, itr 2000] loss: 2.307\n",
            "[epoch2, itr 4000] loss: 2.308\n",
            "[epoch2, itr 6000] loss: 2.307\n",
            "[epoch2, itr 8000] loss: 2.306\n",
            "[epoch2, itr10000] loss: 2.306\n",
            "[epoch2, itr12000] loss: 2.308\n",
            "Epoch=2 Test Accuracy=10.000\n",
            "[epoch3, itr 2000] loss: 2.307\n",
            "[epoch3, itr 4000] loss: 2.307\n",
            "[epoch3, itr 6000] loss: 2.307\n",
            "[epoch3, itr 8000] loss: 2.306\n",
            "[epoch3, itr10000] loss: 2.307\n",
            "[epoch3, itr12000] loss: 2.307\n",
            "Epoch=3 Test Accuracy=10.000\n",
            "[epoch4, itr 2000] loss: 2.307\n",
            "[epoch4, itr 4000] loss: 2.307\n",
            "[epoch4, itr 6000] loss: 2.306\n",
            "[epoch4, itr 8000] loss: 2.307\n",
            "[epoch4, itr10000] loss: 2.306\n",
            "[epoch4, itr12000] loss: 2.307\n",
            "Epoch=4 Test Accuracy=10.000\n",
            "[epoch5, itr 2000] loss: 2.306\n",
            "[epoch5, itr 4000] loss: 2.308\n",
            "[epoch5, itr 6000] loss: 2.307\n",
            "[epoch5, itr 8000] loss: 2.307\n",
            "[epoch5, itr10000] loss: 2.307\n",
            "[epoch5, itr12000] loss: 2.305\n",
            "Epoch=5 Test Accuracy=10.000\n",
            "[epoch6, itr 2000] loss: 2.308\n",
            "[epoch6, itr 4000] loss: 2.306\n",
            "[epoch6, itr 6000] loss: 2.307\n",
            "[epoch6, itr 8000] loss: 2.306\n",
            "[epoch6, itr10000] loss: 2.307\n",
            "[epoch6, itr12000] loss: 2.307\n",
            "Epoch=6 Test Accuracy=10.000\n",
            "[epoch7, itr 2000] loss: 2.307\n",
            "[epoch7, itr 4000] loss: 2.306\n",
            "[epoch7, itr 6000] loss: 2.307\n",
            "[epoch7, itr 8000] loss: 2.307\n",
            "[epoch7, itr10000] loss: 2.307\n",
            "[epoch7, itr12000] loss: 2.307\n",
            "Epoch=7 Test Accuracy=10.000\n",
            "[epoch8, itr 2000] loss: 2.307\n",
            "[epoch8, itr 4000] loss: 2.308\n",
            "[epoch8, itr 6000] loss: 2.307\n",
            "[epoch8, itr 8000] loss: 2.306\n",
            "[epoch8, itr10000] loss: 2.306\n",
            "[epoch8, itr12000] loss: 2.307\n",
            "Epoch=8 Test Accuracy=10.000\n",
            "[epoch9, itr 2000] loss: 2.307\n",
            "[epoch9, itr 4000] loss: 2.307\n",
            "[epoch9, itr 6000] loss: 2.307\n",
            "[epoch9, itr 8000] loss: 2.307\n",
            "[epoch9, itr10000] loss: 2.306\n",
            "[epoch9, itr12000] loss: 2.307\n",
            "Epoch=9 Test Accuracy=10.000\n",
            "[epoch10, itr 2000] loss: 2.307\n",
            "[epoch10, itr 4000] loss: 2.307\n",
            "[epoch10, itr 6000] loss: 2.307\n",
            "[epoch10, itr 8000] loss: 2.306\n",
            "[epoch10, itr10000] loss: 2.306\n",
            "[epoch10, itr12000] loss: 2.307\n",
            "Epoch=10 Test Accuracy=10.000\n",
            "Finished Training with 2 hidden layer\n"
          ],
          "name": "stdout"
        }
      ]
    },
    {
      "cell_type": "markdown",
      "metadata": {
        "id": "6P89oYYUT_4s"
      },
      "source": [
        "Newwork with 3 hidden layers\n"
      ]
    },
    {
      "cell_type": "code",
      "metadata": {
        "id": "x0m6pL5MT_4u",
        "colab": {
          "base_uri": "https://localhost:8080/"
        },
        "outputId": "16b79aba-aef7-44e1-fb63-09e616bd21e3"
      },
      "source": [
        "class Net_with_three_hidden_layer(nn.Module):\n",
        "    def __init__(self):\n",
        "        super(Net_with_three_hidden_layer, self).__init__()\n",
        "        # self.pool = nn.MaxPool2d(2, 2)\n",
        "        self.fc1 = nn.Linear(3*32*32, 120)\n",
        "        self.fc2 = nn.Linear(120, 120)\n",
        "        self.fc3 = nn.Linear(120, 120)\n",
        "        self.fc4 = nn.Linear(120, 10)\n",
        "\n",
        "      \n",
        "\n",
        "    def forward(self, x):\n",
        "        # x = self.pool(x)\n",
        "        x = x.view(-1, 3*32*32)\n",
        "        x = F.relu(self.fc1(x))\n",
        "        x = F.relu(self.fc2(x))\n",
        "        x = F.relu(self.fc3(x))\n",
        "        x = self.fc4(x)\n",
        "        return x\n",
        "print(Net_with_three_hidden_layer())"
      ],
      "execution_count": 18,
      "outputs": [
        {
          "output_type": "stream",
          "text": [
            "Net_with_three_hidden_layer(\n",
            "  (fc1): Linear(in_features=3072, out_features=120, bias=True)\n",
            "  (fc2): Linear(in_features=120, out_features=120, bias=True)\n",
            "  (fc3): Linear(in_features=120, out_features=120, bias=True)\n",
            "  (fc4): Linear(in_features=120, out_features=10, bias=True)\n",
            ")\n"
          ],
          "name": "stdout"
        }
      ]
    },
    {
      "cell_type": "code",
      "metadata": {
        "id": "U1UjYPe4Rou6"
      },
      "source": [
        "net_with_3_h = Net_with_three_hidden_layer()\n",
        "if CUDA:\n",
        "  net_with_3_h = net_with_3_h.cuda()"
      ],
      "execution_count": 19,
      "outputs": []
    },
    {
      "cell_type": "code",
      "metadata": {
        "id": "P1fLM0OkRo99",
        "colab": {
          "base_uri": "https://localhost:8080/"
        },
        "outputId": "30e53b67-1222-4534-917f-65dd9055d658"
      },
      "source": [
        "# Training with 3 hidden layers\n",
        "# criterion is Cross Entropy loss\n",
        "# optimizer is SGD\n",
        "\n",
        "accuracy_values_3_h = []\n",
        "\n",
        "for epoch in range(10):\n",
        "    running_loss = 0.0\n",
        "    for i, (inputs, labels) in enumerate(trainloader, 0):\n",
        "        if CUDA:\n",
        "            inputs = inputs.cuda()\n",
        "            labels = labels.cuda()\n",
        "        else:\n",
        "            inputs = inputs.cpu()\n",
        "            labels = labels.cpu()\n",
        "        \n",
        "        optimizer.zero_grad()\n",
        "        \n",
        "        outputs = net_with_3_h(inputs)\n",
        "        loss = criterion(outputs, labels)\n",
        "        loss.backward()\n",
        "        optimizer.step()\n",
        "\n",
        "        running_loss += loss.item()\n",
        "        if i % 2000 == 1999:\n",
        "          print('[epoch%d, itr%5d] loss: %.3f' % (epoch+1, i+1, running_loss/2000))\n",
        "          running_loss = 0.0\n",
        "\n",
        "    correct = 0\n",
        "    total = 0\n",
        "    count = 0\n",
        "    with torch.no_grad():\n",
        "        for images, labels in testloader:\n",
        "            count += 1\n",
        "            if CUDA:\n",
        "                images = images.cuda()\n",
        "                labels = labels.cuda()\n",
        "            else:\n",
        "                images = images.cpu()\n",
        "                labels =labels.cpu()\n",
        "            \n",
        "            outputs = net_with_3_h(images)\n",
        "            _, predicted = torch.max(outputs.data, 1)\n",
        "            total += labels.size(0)\n",
        "            if not CUDA:\n",
        "                correct += (predicted.cpu()==labels.cpu()).sum().item()\n",
        "            else:\n",
        "                correct += (predicted==labels).sum().item()\n",
        "        \n",
        "        TestAccuracy = 100 * correct / total\n",
        "        accuracy_values_3_h += [TestAccuracy]\n",
        "        print('Epoch=%d Test Accuracy=%.3f' % (epoch+1, TestAccuracy))\n",
        "\n",
        "print('Finished Training with 3 hidden layer')\n",
        "  "
      ],
      "execution_count": 20,
      "outputs": [
        {
          "output_type": "stream",
          "text": [
            "[epoch1, itr 2000] loss: 2.302\n",
            "[epoch1, itr 4000] loss: 2.303\n",
            "[epoch1, itr 6000] loss: 2.302\n",
            "[epoch1, itr 8000] loss: 2.301\n",
            "[epoch1, itr10000] loss: 2.302\n",
            "[epoch1, itr12000] loss: 2.302\n",
            "Epoch=1 Test Accuracy=11.500\n",
            "[epoch2, itr 2000] loss: 2.302\n",
            "[epoch2, itr 4000] loss: 2.302\n",
            "[epoch2, itr 6000] loss: 2.302\n",
            "[epoch2, itr 8000] loss: 2.302\n",
            "[epoch2, itr10000] loss: 2.302\n",
            "[epoch2, itr12000] loss: 2.302\n",
            "Epoch=2 Test Accuracy=11.500\n",
            "[epoch3, itr 2000] loss: 2.303\n",
            "[epoch3, itr 4000] loss: 2.302\n",
            "[epoch3, itr 6000] loss: 2.303\n",
            "[epoch3, itr 8000] loss: 2.301\n",
            "[epoch3, itr10000] loss: 2.303\n",
            "[epoch3, itr12000] loss: 2.302\n",
            "Epoch=3 Test Accuracy=11.500\n",
            "[epoch4, itr 2000] loss: 2.303\n",
            "[epoch4, itr 4000] loss: 2.302\n",
            "[epoch4, itr 6000] loss: 2.302\n",
            "[epoch4, itr 8000] loss: 2.302\n",
            "[epoch4, itr10000] loss: 2.302\n",
            "[epoch4, itr12000] loss: 2.303\n",
            "Epoch=4 Test Accuracy=11.500\n",
            "[epoch5, itr 2000] loss: 2.302\n",
            "[epoch5, itr 4000] loss: 2.303\n",
            "[epoch5, itr 6000] loss: 2.302\n",
            "[epoch5, itr 8000] loss: 2.301\n",
            "[epoch5, itr10000] loss: 2.302\n",
            "[epoch5, itr12000] loss: 2.302\n",
            "Epoch=5 Test Accuracy=11.500\n",
            "[epoch6, itr 2000] loss: 2.303\n",
            "[epoch6, itr 4000] loss: 2.302\n",
            "[epoch6, itr 6000] loss: 2.302\n",
            "[epoch6, itr 8000] loss: 2.302\n",
            "[epoch6, itr10000] loss: 2.303\n",
            "[epoch6, itr12000] loss: 2.303\n",
            "Epoch=6 Test Accuracy=11.500\n",
            "[epoch7, itr 2000] loss: 2.302\n",
            "[epoch7, itr 4000] loss: 2.302\n",
            "[epoch7, itr 6000] loss: 2.302\n",
            "[epoch7, itr 8000] loss: 2.302\n",
            "[epoch7, itr10000] loss: 2.302\n",
            "[epoch7, itr12000] loss: 2.302\n",
            "Epoch=7 Test Accuracy=11.500\n",
            "[epoch8, itr 2000] loss: 2.303\n",
            "[epoch8, itr 4000] loss: 2.302\n",
            "[epoch8, itr 6000] loss: 2.302\n",
            "[epoch8, itr 8000] loss: 2.302\n",
            "[epoch8, itr10000] loss: 2.302\n",
            "[epoch8, itr12000] loss: 2.303\n",
            "Epoch=8 Test Accuracy=11.500\n",
            "[epoch9, itr 2000] loss: 2.303\n",
            "[epoch9, itr 4000] loss: 2.303\n",
            "[epoch9, itr 6000] loss: 2.302\n",
            "[epoch9, itr 8000] loss: 2.303\n",
            "[epoch9, itr10000] loss: 2.302\n",
            "[epoch9, itr12000] loss: 2.302\n",
            "Epoch=9 Test Accuracy=11.500\n",
            "[epoch10, itr 2000] loss: 2.302\n",
            "[epoch10, itr 4000] loss: 2.302\n",
            "[epoch10, itr 6000] loss: 2.303\n",
            "[epoch10, itr 8000] loss: 2.301\n",
            "[epoch10, itr10000] loss: 2.302\n",
            "[epoch10, itr12000] loss: 2.303\n",
            "Epoch=10 Test Accuracy=11.500\n",
            "Finished Training with 3 hidden layer\n"
          ],
          "name": "stdout"
        }
      ]
    },
    {
      "cell_type": "markdown",
      "metadata": {
        "id": "0akzlxfQUMkM"
      },
      "source": [
        "Newwork with 4 hidden layers\n"
      ]
    },
    {
      "cell_type": "code",
      "metadata": {
        "id": "oJ5RyPEwUMkM",
        "colab": {
          "base_uri": "https://localhost:8080/"
        },
        "outputId": "d168ddd4-58bf-47a2-8101-e9b1a36cd41d"
      },
      "source": [
        "class Net_with_four_hidden_layer(nn.Module):\n",
        "    def __init__(self):\n",
        "        super(Net_with_four_hidden_layer, self).__init__()\n",
        "        self.pool = nn.MaxPool2d(2, 2)\n",
        "        self.fc1 = nn.Linear(3*32*32, 120)\n",
        "        self.fc2 = nn.Linear(120, 120)\n",
        "        self.fc3 = nn.Linear(120, 120)\n",
        "        self.fc4 = nn.Linear(120, 120)\n",
        "        self.fc5 = nn.Linear(120, 10)\n",
        "      \n",
        "\n",
        "    def forward(self, x):\n",
        "        # x = self.pool(x)\n",
        "        x = x.view(-1, 3*32*32)\n",
        "        x = F.relu(self.fc1(x))\n",
        "        x = F.relu(self.fc2(x))\n",
        "        x = F.relu(self.fc3(x))\n",
        "        x = F.relu(self.fc4(x))\n",
        "        x = self.fc5(x)\n",
        "        return x\n",
        "print(Net_with_four_hidden_layer())"
      ],
      "execution_count": 21,
      "outputs": [
        {
          "output_type": "stream",
          "text": [
            "Net_with_four_hidden_layer(\n",
            "  (pool): MaxPool2d(kernel_size=2, stride=2, padding=0, dilation=1, ceil_mode=False)\n",
            "  (fc1): Linear(in_features=3072, out_features=120, bias=True)\n",
            "  (fc2): Linear(in_features=120, out_features=120, bias=True)\n",
            "  (fc3): Linear(in_features=120, out_features=120, bias=True)\n",
            "  (fc4): Linear(in_features=120, out_features=120, bias=True)\n",
            "  (fc5): Linear(in_features=120, out_features=10, bias=True)\n",
            ")\n"
          ],
          "name": "stdout"
        }
      ]
    },
    {
      "cell_type": "code",
      "metadata": {
        "id": "_v6uDqhMR2Zk"
      },
      "source": [
        "net_with_4_h = Net_with_four_hidden_layer()\n",
        "if CUDA:\n",
        "  net_with_4_h = net_with_4_h.cuda()"
      ],
      "execution_count": 22,
      "outputs": []
    },
    {
      "cell_type": "code",
      "metadata": {
        "colab": {
          "base_uri": "https://localhost:8080/"
        },
        "id": "wqTbqgLeR2pN",
        "outputId": "a5c32db1-bb67-4a81-b3cb-c9bf2be89c89"
      },
      "source": [
        "# Training with 4 hidden layers\n",
        "# criterion is Cross Entropy loss\n",
        "# optimizer is SGD\n",
        "accuracy_values_4_h = []\n",
        "for epoch in range(10):\n",
        "    running_loss = 0.0\n",
        "    for i, (inputs, labels) in enumerate(trainloader):\n",
        "        if CUDA:\n",
        "            inputs = inputs.cuda()\n",
        "            labels = labels.cuda()\n",
        "        else:\n",
        "            inputs = inputs.cpu()\n",
        "            labels = labels.cpu()\n",
        "\n",
        "        optimizer.zero_grad()\n",
        "\n",
        "        outputs = net_with_4_h(inputs)\n",
        "        loss = criterion(outputs, labels)\n",
        "        loss.backward()\n",
        "        optimizer.step()\n",
        "\n",
        "        running_loss += loss.item()\n",
        "        if i % 2000 == 1999:\n",
        "            print('[epoch%d, itr%5d] loss: %.3f' %\n",
        "                  (epoch+1, i+1, running_loss/2000))\n",
        "            running_loss = 0.0\n",
        "\n",
        "    correct = 0\n",
        "    total = 0\n",
        "    with torch.no_grad():\n",
        "        for images, labels in testloader:\n",
        "            if CUDA:\n",
        "                images = images.cuda()\n",
        "                labels = labels.cuda()\n",
        "            else:\n",
        "                images = images.cpu()\n",
        "                labels = labels.cpu()\n",
        "\n",
        "            outputs = net_with_4_h(images)\n",
        "            _, predicted = torch.max(outputs.data, 1)\n",
        "            total += labels.size(0)\n",
        "            if not CUDA:\n",
        "                correct += (predicted.cpu() == labels.cpu()).sum().item()\n",
        "            else:\n",
        "                correct += (predicted == labels).sum().item()\n",
        "\n",
        "        TextAccuracy = 100 * correct / total\n",
        "        accuracy_values_4_h += [TextAccuracy]\n",
        "        print('Epoch=%d Test Accuracy=%.3f' %\n",
        "              (epoch+1, TextAccuracy))\n",
        "      \n",
        "print('Finished Training with 4 hidden layers')\n",
        "\n"
      ],
      "execution_count": 23,
      "outputs": [
        {
          "output_type": "stream",
          "text": [
            "[epoch1, itr 2000] loss: 2.304\n",
            "[epoch1, itr 4000] loss: 2.305\n",
            "[epoch1, itr 6000] loss: 2.304\n",
            "[epoch1, itr 8000] loss: 2.305\n",
            "[epoch1, itr10000] loss: 2.304\n",
            "[epoch1, itr12000] loss: 2.304\n",
            "Epoch=1 Test Accuracy=11.310\n",
            "[epoch2, itr 2000] loss: 2.305\n",
            "[epoch2, itr 4000] loss: 2.305\n",
            "[epoch2, itr 6000] loss: 2.304\n",
            "[epoch2, itr 8000] loss: 2.304\n",
            "[epoch2, itr10000] loss: 2.303\n",
            "[epoch2, itr12000] loss: 2.304\n",
            "Epoch=2 Test Accuracy=11.310\n",
            "[epoch3, itr 2000] loss: 2.305\n",
            "[epoch3, itr 4000] loss: 2.304\n",
            "[epoch3, itr 6000] loss: 2.304\n",
            "[epoch3, itr 8000] loss: 2.304\n",
            "[epoch3, itr10000] loss: 2.304\n",
            "[epoch3, itr12000] loss: 2.305\n",
            "Epoch=3 Test Accuracy=11.310\n",
            "[epoch4, itr 2000] loss: 2.305\n",
            "[epoch4, itr 4000] loss: 2.303\n",
            "[epoch4, itr 6000] loss: 2.305\n",
            "[epoch4, itr 8000] loss: 2.303\n",
            "[epoch4, itr10000] loss: 2.305\n",
            "[epoch4, itr12000] loss: 2.305\n",
            "Epoch=4 Test Accuracy=11.310\n",
            "[epoch5, itr 2000] loss: 2.304\n",
            "[epoch5, itr 4000] loss: 2.305\n",
            "[epoch5, itr 6000] loss: 2.304\n",
            "[epoch5, itr 8000] loss: 2.304\n",
            "[epoch5, itr10000] loss: 2.304\n",
            "[epoch5, itr12000] loss: 2.304\n",
            "Epoch=5 Test Accuracy=11.310\n",
            "[epoch6, itr 2000] loss: 2.303\n",
            "[epoch6, itr 4000] loss: 2.305\n",
            "[epoch6, itr 6000] loss: 2.304\n",
            "[epoch6, itr 8000] loss: 2.304\n",
            "[epoch6, itr10000] loss: 2.305\n",
            "[epoch6, itr12000] loss: 2.304\n",
            "Epoch=6 Test Accuracy=11.310\n",
            "[epoch7, itr 2000] loss: 2.304\n",
            "[epoch7, itr 4000] loss: 2.304\n",
            "[epoch7, itr 6000] loss: 2.304\n",
            "[epoch7, itr 8000] loss: 2.305\n",
            "[epoch7, itr10000] loss: 2.304\n",
            "[epoch7, itr12000] loss: 2.304\n",
            "Epoch=7 Test Accuracy=11.310\n",
            "[epoch8, itr 2000] loss: 2.305\n",
            "[epoch8, itr 4000] loss: 2.304\n",
            "[epoch8, itr 6000] loss: 2.306\n",
            "[epoch8, itr 8000] loss: 2.303\n",
            "[epoch8, itr10000] loss: 2.304\n",
            "[epoch8, itr12000] loss: 2.304\n",
            "Epoch=8 Test Accuracy=11.310\n",
            "[epoch9, itr 2000] loss: 2.304\n",
            "[epoch9, itr 4000] loss: 2.305\n",
            "[epoch9, itr 6000] loss: 2.303\n",
            "[epoch9, itr 8000] loss: 2.304\n",
            "[epoch9, itr10000] loss: 2.305\n",
            "[epoch9, itr12000] loss: 2.304\n",
            "Epoch=9 Test Accuracy=11.310\n",
            "[epoch10, itr 2000] loss: 2.304\n",
            "[epoch10, itr 4000] loss: 2.304\n",
            "[epoch10, itr 6000] loss: 2.304\n",
            "[epoch10, itr 8000] loss: 2.304\n",
            "[epoch10, itr10000] loss: 2.304\n",
            "[epoch10, itr12000] loss: 2.305\n",
            "Epoch=10 Test Accuracy=11.310\n",
            "Finished Training with 4 hidden layers\n"
          ],
          "name": "stdout"
        }
      ]
    },
    {
      "cell_type": "code",
      "metadata": {
        "colab": {
          "base_uri": "https://localhost:8080/",
          "height": 368
        },
        "id": "wla05HbQMgn3",
        "outputId": "3da624ba-cd4b-434a-9371-bea3614dffdf"
      },
      "source": [
        "# test plots\n",
        "import matplotlib.pyplot as plt\n",
        "import numpy as np\n",
        "\n",
        "print(\"Base model: {0}\".format(accuracy_values))\n",
        "print(\"Model no hidden layer: {0}\".format(accuracy_values_without_h))\n",
        "print(\"Model with 1 hidden layer:{0}\".format(accuracy_values_1_h))\n",
        "print(\"Model with 2 hidden layer:{0}\".format(accuracy_values_2_h))\n",
        "print(\"Model with 3 hidden layer:{0}\".format(accuracy_values_3_h))\n",
        "print(\"Model with 4 hidden layer:{0}\".format(accuracy_values_4_h))\n",
        "\n",
        "# Plot the data\n",
        "plt.plot(epoch_number, accuracy_values, label='CNN')\n",
        "plt.plot(epoch_number, accuracy_values_without_h, label='0_H_L')\n",
        "plt.plot(epoch_number, accuracy_values_1_h, label='1_H_L')\n",
        "plt.plot(epoch_number, accuracy_values_2_h, label='2_H_L')\n",
        "plt.plot(epoch_number, accuracy_values_3_h, label='3_H_L')\n",
        "plt.plot(epoch_number, accuracy_values_4_h, label='4_H_L')\n",
        "\n",
        "# Add a legend\n",
        "plt.legend()\n",
        "\n",
        "# Show the plot\n",
        "plt.show()\n",
        "\n",
        "## Anything better than 10% accuracy (randomly picking a class out of 10 classes)\n",
        "# means the network has learned something."
      ],
      "execution_count": 24,
      "outputs": [
        {
          "output_type": "stream",
          "text": [
            "Base model: [46.44, 54.48, 59.83, 60.15, 62.43, 62.83, 63.06, 63.14, 63.24, 62.89]\n",
            "Model no hidden layer: [7.2, 7.2, 7.2, 7.2, 7.2, 7.2, 7.2, 7.2, 7.2, 7.2]\n",
            "Model with 1 hidden layer:[10.29, 10.29, 10.29, 10.29, 10.29, 10.29, 10.29, 10.29, 10.29, 10.29]\n",
            "Model with 2 hidden layer:[10.0, 10.0, 10.0, 10.0, 10.0, 10.0, 10.0, 10.0, 10.0, 10.0]\n",
            "Model with 3 hidden layer:[11.5, 11.5, 11.5, 11.5, 11.5, 11.5, 11.5, 11.5, 11.5, 11.5]\n",
            "Model with 4 hidden layer:[11.31, 11.31, 11.31, 11.31, 11.31, 11.31, 11.31, 11.31, 11.31, 11.31]\n"
          ],
          "name": "stdout"
        },
        {
          "output_type": "display_data",
          "data": {
            "image/png": "[encoded data removed]",
            "text/plain": [
              "<Figure size 432x288 with 1 Axes>"
            ]
          },
          "metadata": {
            "tags": [],
            "needs_background": "light"
          }
        }
      ]
    },
    {
      "cell_type": "markdown",
      "metadata": {
        "id": "55NFQxxNip8Y"
      },
      "source": [
        "## Question 2\n",
        "CNN with sigmoid activation function\n",
        "\n",
        "Should I change all relu functions to sigmoid including fully connect layer?\n"
      ]
    },
    {
      "cell_type": "code",
      "metadata": {
        "colab": {
          "base_uri": "https://localhost:8080/"
        },
        "id": "P0mSTxWli3xp",
        "outputId": "679cfd3a-d706-4cbc-e1ae-d6d96491bacb"
      },
      "source": [
        "class Net_sigmoid(nn.Module):\n",
        "    def __init__(self):\n",
        "        super(Net_sigmoid, self).__init__()\n",
        "        self.conv1 = nn.Conv2d(3, 6, 5)\n",
        "        self.pool = nn.MaxPool2d(2, 2)\n",
        "        self.conv2 = nn.Conv2d(6, 16, 5)\n",
        "        self.fc1 = nn.Linear(16*5*5, 120)\n",
        "        self.fc2 = nn.Linear(120, 120)\n",
        "        self.fc3 = nn.Linear(120, 10)\n",
        "\n",
        "    def forward(self, x):\n",
        "        x = self.pool(torch.sigmoid(self.conv1(x)))\n",
        "        x = self.pool(torch.sigmoid(self.conv2(x)))\n",
        "        x = x.view(-1, 16*5*5)\n",
        "        x = torch.sigmoid(self.fc1(x))\n",
        "        x = torch.sigmoid(self.fc2(x))\n",
        "        x = self.fc3(x)\n",
        "        return x\n",
        "        \n",
        "print(Net_sigmoid())"
      ],
      "execution_count": 25,
      "outputs": [
        {
          "output_type": "stream",
          "text": [
            "Net_sigmoid(\n",
            "  (conv1): Conv2d(3, 6, kernel_size=(5, 5), stride=(1, 1))\n",
            "  (pool): MaxPool2d(kernel_size=2, stride=2, padding=0, dilation=1, ceil_mode=False)\n",
            "  (conv2): Conv2d(6, 16, kernel_size=(5, 5), stride=(1, 1))\n",
            "  (fc1): Linear(in_features=400, out_features=120, bias=True)\n",
            "  (fc2): Linear(in_features=120, out_features=120, bias=True)\n",
            "  (fc3): Linear(in_features=120, out_features=10, bias=True)\n",
            ")\n"
          ],
          "name": "stdout"
        }
      ]
    },
    {
      "cell_type": "code",
      "metadata": {
        "id": "Lg4HmM09Xf5z"
      },
      "source": [
        "net_sigmoid = Net_sigmoid()\n",
        "if CUDA:\n",
        "    net_sigmoid = net_sigmoid.cuda()"
      ],
      "execution_count": 26,
      "outputs": []
    },
    {
      "cell_type": "code",
      "metadata": {
        "colab": {
          "base_uri": "https://localhost:8080/"
        },
        "id": "5cuno_x1HA_a",
        "outputId": "7b509940-6f7c-4d7e-d383-6377681333d5"
      },
      "source": [
        "# Training with sigmoid\n",
        "# criterion is Cross Entropy loss\n",
        "# optimizer is SGD\n",
        "accuracy_sigmoid = []\n",
        "for epoch in range(10):\n",
        "    running_loss = 0.0\n",
        "    for i, (inputs, labels) in enumerate(trainloader):\n",
        "        if CUDA:\n",
        "            inputs = inputs.cuda()\n",
        "            labels = labels.cuda()\n",
        "        else:\n",
        "            inputs = inputs.cpu()\n",
        "            labels = labels.cpu()\n",
        "\n",
        "        optimizer.zero_grad()\n",
        "\n",
        "        outputs = net_sigmoid(inputs)\n",
        "        loss = criterion(outputs, labels)\n",
        "        loss.backward()\n",
        "        optimizer.step()\n",
        "\n",
        "        running_loss += loss.item()\n",
        "        if i % 2000 == 1999:\n",
        "            print('[epoch%d, itr%5d] %.3f' %\n",
        "                  (epoch+1, i+1, running_loss/2000))\n",
        "            running_loss = 0.0\n",
        "\n",
        "    correct = 0\n",
        "    total = 0\n",
        "    with torch.no_grad():\n",
        "        for images, labels in testloader:\n",
        "            if CUDA:\n",
        "                images = images.cuda()\n",
        "                labels = labels.cuda()\n",
        "            else:\n",
        "                images = images.cpu()\n",
        "                labels = labels.cpu()\n",
        "\n",
        "            outputs = net_sigmoid(images)\n",
        "            _, predicted = torch.max(outputs.data, 1)\n",
        "            total += labels.size(0)\n",
        "            if not CUDA:\n",
        "                correct += (predicted.cpu() == labels.cpu()).sum().item()\n",
        "            else:\n",
        "                correct += (predicted == labels).sum().item()\n",
        "\n",
        "        TextAccuracy = 100 * correct / total\n",
        "        accuracy_sigmoid += [TextAccuracy]\n",
        "        print('Epoch=%d Test Accuracy=%.3f' %\n",
        "              (epoch+1, TextAccuracy))\n",
        "      \n",
        "print('Finished Training with sigmoid')\n",
        "\n"
      ],
      "execution_count": 27,
      "outputs": [
        {
          "output_type": "stream",
          "text": [
            "[epoch1, itr 2000] 2.332\n",
            "[epoch1, itr 4000] 2.324\n",
            "[epoch1, itr 6000] 2.329\n",
            "[epoch1, itr 8000] 2.330\n",
            "[epoch1, itr10000] 2.325\n",
            "[epoch1, itr12000] 2.328\n",
            "Epoch=1 Test Accuracy=10.000\n",
            "[epoch2, itr 2000] 2.330\n",
            "[epoch2, itr 4000] 2.325\n",
            "[epoch2, itr 6000] 2.326\n",
            "[epoch2, itr 8000] 2.327\n",
            "[epoch2, itr10000] 2.328\n",
            "[epoch2, itr12000] 2.331\n",
            "Epoch=2 Test Accuracy=10.000\n",
            "[epoch3, itr 2000] 2.325\n",
            "[epoch3, itr 4000] 2.327\n",
            "[epoch3, itr 6000] 2.330\n",
            "[epoch3, itr 8000] 2.327\n",
            "[epoch3, itr10000] 2.326\n",
            "[epoch3, itr12000] 2.331\n",
            "Epoch=3 Test Accuracy=10.000\n",
            "[epoch4, itr 2000] 2.330\n",
            "[epoch4, itr 4000] 2.325\n",
            "[epoch4, itr 6000] 2.329\n",
            "[epoch4, itr 8000] 2.326\n",
            "[epoch4, itr10000] 2.327\n",
            "[epoch4, itr12000] 2.327\n",
            "Epoch=4 Test Accuracy=10.000\n",
            "[epoch5, itr 2000] 2.331\n",
            "[epoch5, itr 4000] 2.327\n",
            "[epoch5, itr 6000] 2.329\n",
            "[epoch5, itr 8000] 2.328\n",
            "[epoch5, itr10000] 2.326\n",
            "[epoch5, itr12000] 2.326\n",
            "Epoch=5 Test Accuracy=10.000\n",
            "[epoch6, itr 2000] 2.331\n",
            "[epoch6, itr 4000] 2.326\n",
            "[epoch6, itr 6000] 2.329\n",
            "[epoch6, itr 8000] 2.326\n",
            "[epoch6, itr10000] 2.326\n",
            "[epoch6, itr12000] 2.330\n",
            "Epoch=6 Test Accuracy=10.000\n",
            "[epoch7, itr 2000] 2.324\n",
            "[epoch7, itr 4000] 2.332\n",
            "[epoch7, itr 6000] 2.327\n",
            "[epoch7, itr 8000] 2.326\n",
            "[epoch7, itr10000] 2.328\n",
            "[epoch7, itr12000] 2.329\n",
            "Epoch=7 Test Accuracy=10.000\n",
            "[epoch8, itr 2000] 2.327\n",
            "[epoch8, itr 4000] 2.325\n",
            "[epoch8, itr 6000] 2.324\n",
            "[epoch8, itr 8000] 2.329\n",
            "[epoch8, itr10000] 2.328\n",
            "[epoch8, itr12000] 2.334\n",
            "Epoch=8 Test Accuracy=10.000\n",
            "[epoch9, itr 2000] 2.327\n",
            "[epoch9, itr 4000] 2.328\n",
            "[epoch9, itr 6000] 2.329\n",
            "[epoch9, itr 8000] 2.329\n",
            "[epoch9, itr10000] 2.328\n",
            "[epoch9, itr12000] 2.325\n",
            "Epoch=9 Test Accuracy=10.000\n",
            "[epoch10, itr 2000] 2.328\n",
            "[epoch10, itr 4000] 2.326\n",
            "[epoch10, itr 6000] 2.332\n",
            "[epoch10, itr 8000] 2.324\n",
            "[epoch10, itr10000] 2.324\n",
            "[epoch10, itr12000] 2.330\n",
            "Epoch=10 Test Accuracy=10.000\n",
            "Finished Training with sigmoid\n"
          ],
          "name": "stdout"
        }
      ]
    },
    {
      "cell_type": "code",
      "metadata": {
        "colab": {
          "base_uri": "https://localhost:8080/",
          "height": 282
        },
        "id": "U-AJgq5jHb42",
        "outputId": "b124f0c9-4a85-4c65-af95-741b145b308f"
      },
      "source": [
        "print(accuracy_sigmoid)\n",
        "\n",
        "plt.plot(epoch_number, accuracy_values, label='CNN_with_Relu')\n",
        "plt.plot(epoch_number, accuracy_sigmoid, label='CNN_with_Sigmoid')\n",
        "plt.legend()\n",
        "plt.show()"
      ],
      "execution_count": 28,
      "outputs": [
        {
          "output_type": "stream",
          "text": [
            "[10.0, 10.0, 10.0, 10.0, 10.0, 10.0, 10.0, 10.0, 10.0, 10.0]\n"
          ],
          "name": "stdout"
        },
        {
          "output_type": "display_data",
          "data": {
            "image/png": "[encoded data removed]",
            "text/plain": [
              "<Figure size 432x288 with 1 Axes>"
            ]
          },
          "metadata": {
            "tags": [],
            "needs_background": "light"
          }
        }
      ]
    },
    {
      "cell_type": "markdown",
      "metadata": {
        "id": "y_IJS0XrI-Zn"
      },
      "source": [
        "## Question 3\n",
        "\n",
        "With 5*5 filter, SAME convolution"
      ]
    },
    {
      "cell_type": "code",
      "metadata": {
        "colab": {
          "base_uri": "https://localhost:8080/"
        },
        "id": "LB8cJsXzI9x3",
        "outputId": "6b90f11f-000d-43b4-acf7-830d20ab55e7"
      },
      "source": [
        "class Net_5_SAME(nn.Module):\n",
        "    def __init__(self):\n",
        "        super(Net_5_SAME, self).__init__()\n",
        "        self.conv1 = nn.Conv2d(3, 6, 5, padding=1)\n",
        "        self.pool = nn.MaxPool2d(2, 2)\n",
        "        self.conv2 = nn.Conv2d(6, 16, 5, padding=1)\n",
        "        self.fc1 = nn.Linear(16*6*6, 120)\n",
        "        self.fc2 = nn.Linear(120, 120)\n",
        "        self.fc3 = nn.Linear(120, 10)\n",
        "\n",
        "    def forward(self, x):\n",
        "        # print(x.size())\n",
        "        x = self.pool(F.relu(self.conv1(x)))\n",
        "        # print(x.size())\n",
        "        x = self.pool(F.relu(self.conv2(x)))\n",
        "        # print(x.size())\n",
        "        x = x.view(-1, 16*6*6)\n",
        "        x = F.relu(self.fc1(x))\n",
        "        x = F.relu(self.fc2(x))\n",
        "        x = self.fc3(x)\n",
        "        return x\n",
        "\n",
        "print(Net_5_SAME())"
      ],
      "execution_count": 126,
      "outputs": [
        {
          "output_type": "stream",
          "text": [
            "Net_5_SAME(\n",
            "  (conv1): Conv2d(3, 6, kernel_size=(5, 5), stride=(1, 1), padding=(1, 1))\n",
            "  (pool): MaxPool2d(kernel_size=2, stride=2, padding=0, dilation=1, ceil_mode=False)\n",
            "  (conv2): Conv2d(6, 16, kernel_size=(5, 5), stride=(1, 1), padding=(1, 1))\n",
            "  (fc1): Linear(in_features=576, out_features=120, bias=True)\n",
            "  (fc2): Linear(in_features=120, out_features=120, bias=True)\n",
            "  (fc3): Linear(in_features=120, out_features=10, bias=True)\n",
            ")\n"
          ],
          "name": "stdout"
        }
      ]
    },
    {
      "cell_type": "code",
      "metadata": {
        "id": "bznMlk3VQzhM"
      },
      "source": [
        "net_5_same = Net_5_SAME()\n",
        "if CUDA:\n",
        "    net_5_same = net_5_same.cuda()"
      ],
      "execution_count": 127,
      "outputs": []
    },
    {
      "cell_type": "code",
      "metadata": {
        "colab": {
          "base_uri": "https://localhost:8080/"
        },
        "id": "3vgazhFAQXrk",
        "outputId": "9ffe08a9-eae6-419e-963f-9eb1cad8c4c9"
      },
      "source": [
        "accuracy_5_same = []\n",
        "\n",
        "for epoch in range(10):\n",
        "    running_loss = 0.0\n",
        "    for i, (inputs, labels) in enumerate(trainloader, 0):\n",
        "        if CUDA:\n",
        "            inputs = inputs.cuda()\n",
        "            labels = labels.cuda()\n",
        "        else:\n",
        "            inputs = inputs.cpu()\n",
        "            labels = labels.cpu()\n",
        "\n",
        "        optimizer.zero_grad()\n",
        "\n",
        "        outputs = net_5_same(inputs)\n",
        "        # if i == 1:\n",
        "        #   print(outputs.size())\n",
        "        #   print(labels.size())\n",
        "        loss = criterion(outputs, labels)\n",
        "        loss.backward()\n",
        "        optimizer.step()\n",
        "\n",
        "        running_loss += loss.item()\n",
        "        if i % 2000 == 1999:\n",
        "          print('[epoch%d itr%5d] loss: %.3f' % (epoch+1, i+1, running_loss/2000))\n",
        "          running_loss = 0.0\n",
        "    \n",
        "    correct = 0\n",
        "    total = 0\n",
        "    with torch.no_grad():\n",
        "        for images, labels in testloader:\n",
        "            if CUDA:\n",
        "                images = images.cuda()\n",
        "                labels = labels.cuda()\n",
        "            else:\n",
        "                images = images.cpu()\n",
        "                labels = labels.cpu()\n",
        "\n",
        "            outputs = net_5_same(images)\n",
        "            _, predicted = torch.max(outputs.data, 1)\n",
        "            total += labels.size(0)\n",
        "            if not CUDA:\n",
        "                correct += (predicted.cpu() == labels.cpu()).sum().item()\n",
        "            else:\n",
        "                correct += (predicted == labels).sum().item()\n",
        "          \n",
        "        TestAccuracy = 100 * correct / total\n",
        "        accuracy_5_same += [TestAccuracy]\n",
        "        print(\"Epoch=%d Test Accuracy=%.3f\" %\n",
        "              (epoch+1, TestAccuracy))\n",
        "        \n",
        "print(\"Finished Training with 5*5 filter in SAME convolution\")        "
      ],
      "execution_count": 128,
      "outputs": [
        {
          "output_type": "stream",
          "text": [
            "[epoch1 itr 2000] loss: 2.304\n",
            "[epoch1 itr 4000] loss: 2.304\n",
            "[epoch1 itr 6000] loss: 2.304\n",
            "[epoch1 itr 8000] loss: 2.303\n",
            "[epoch1 itr10000] loss: 2.305\n",
            "[epoch1 itr12000] loss: 2.305\n",
            "Epoch=1 Test Accuracy=10.000\n",
            "[epoch2 itr 2000] loss: 2.302\n",
            "[epoch2 itr 4000] loss: 2.305\n",
            "[epoch2 itr 6000] loss: 2.305\n",
            "[epoch2 itr 8000] loss: 2.304\n",
            "[epoch2 itr10000] loss: 2.305\n",
            "[epoch2 itr12000] loss: 2.304\n",
            "Epoch=2 Test Accuracy=10.000\n",
            "[epoch3 itr 2000] loss: 2.304\n",
            "[epoch3 itr 4000] loss: 2.305\n",
            "[epoch3 itr 6000] loss: 2.305\n",
            "[epoch3 itr 8000] loss: 2.303\n",
            "[epoch3 itr10000] loss: 2.304\n",
            "[epoch3 itr12000] loss: 2.304\n",
            "Epoch=3 Test Accuracy=10.000\n",
            "[epoch4 itr 2000] loss: 2.304\n",
            "[epoch4 itr 4000] loss: 2.304\n",
            "[epoch4 itr 6000] loss: 2.303\n",
            "[epoch4 itr 8000] loss: 2.304\n",
            "[epoch4 itr10000] loss: 2.305\n",
            "[epoch4 itr12000] loss: 2.304\n",
            "Epoch=4 Test Accuracy=10.000\n",
            "[epoch5 itr 2000] loss: 2.304\n",
            "[epoch5 itr 4000] loss: 2.304\n",
            "[epoch5 itr 6000] loss: 2.304\n",
            "[epoch5 itr 8000] loss: 2.304\n",
            "[epoch5 itr10000] loss: 2.305\n",
            "[epoch5 itr12000] loss: 2.304\n",
            "Epoch=5 Test Accuracy=10.000\n",
            "[epoch6 itr 2000] loss: 2.304\n",
            "[epoch6 itr 4000] loss: 2.303\n",
            "[epoch6 itr 6000] loss: 2.304\n",
            "[epoch6 itr 8000] loss: 2.305\n",
            "[epoch6 itr10000] loss: 2.303\n",
            "[epoch6 itr12000] loss: 2.305\n",
            "Epoch=6 Test Accuracy=10.000\n",
            "[epoch7 itr 2000] loss: 2.305\n",
            "[epoch7 itr 4000] loss: 2.304\n",
            "[epoch7 itr 6000] loss: 2.302\n",
            "[epoch7 itr 8000] loss: 2.304\n",
            "[epoch7 itr10000] loss: 2.305\n",
            "[epoch7 itr12000] loss: 2.305\n",
            "Epoch=7 Test Accuracy=10.000\n",
            "[epoch8 itr 2000] loss: 2.304\n",
            "[epoch8 itr 4000] loss: 2.304\n",
            "[epoch8 itr 6000] loss: 2.304\n",
            "[epoch8 itr 8000] loss: 2.304\n",
            "[epoch8 itr10000] loss: 2.304\n",
            "[epoch8 itr12000] loss: 2.305\n",
            "Epoch=8 Test Accuracy=10.000\n",
            "[epoch9 itr 2000] loss: 2.304\n",
            "[epoch9 itr 4000] loss: 2.304\n",
            "[epoch9 itr 6000] loss: 2.304\n",
            "[epoch9 itr 8000] loss: 2.304\n",
            "[epoch9 itr10000] loss: 2.305\n",
            "[epoch9 itr12000] loss: 2.304\n",
            "Epoch=9 Test Accuracy=10.000\n",
            "[epoch10 itr 2000] loss: 2.305\n",
            "[epoch10 itr 4000] loss: 2.304\n",
            "[epoch10 itr 6000] loss: 2.303\n",
            "[epoch10 itr 8000] loss: 2.304\n",
            "[epoch10 itr10000] loss: 2.305\n",
            "[epoch10 itr12000] loss: 2.304\n",
            "Epoch=10 Test Accuracy=10.000\n",
            "Finished Training with 5*5 filter in SAME convolution\n"
          ],
          "name": "stdout"
        }
      ]
    },
    {
      "cell_type": "markdown",
      "metadata": {
        "id": "2mqaBsY4Wy1D"
      },
      "source": [
        "Network with 3*3 filter, Valid convolution"
      ]
    },
    {
      "cell_type": "code",
      "metadata": {
        "colab": {
          "base_uri": "https://localhost:8080/"
        },
        "id": "tWzN_8CwWoV5",
        "outputId": "2df86f7f-69c3-49b9-f4f7-82c38b686933"
      },
      "source": [
        "class Net_3_VALID(nn.Module):\n",
        "    def __init__(self):\n",
        "        super(Net_3_VALID, self).__init__()\n",
        "        self.conv1 = nn.Conv2d(3, 6, 3)\n",
        "        self.pool = nn.MaxPool2d(2, 2)\n",
        "        self.conv2 = nn.Conv2d(6, 16, 3)\n",
        "        self.fc1 = nn.Linear(16 * 6 * 6, 120)\n",
        "        self.fc2 = nn.Linear(120, 120)\n",
        "        self.fc3 = nn.Linear(120, 10)\n",
        "\n",
        "    def forward(self, x):\n",
        "        x = self.pool(F.relu(self.conv1(x)))\n",
        "        # print(x.size())\n",
        "        x = self.pool(F.relu(self.conv2(x)))\n",
        "        # print(x.size())\n",
        "        x = x.view(-1, 16 * 6 * 6)\n",
        "        # print(x.size())\n",
        "        x = F.relu(self.fc1(x))\n",
        "        x = F.relu(self.fc2(x))\n",
        "        x = self.fc3(x)\n",
        "        return x\n",
        "\n",
        "print(Net_3_VALID())"
      ],
      "execution_count": 130,
      "outputs": [
        {
          "output_type": "stream",
          "text": [
            "Net_3_VALID(\n",
            "  (conv1): Conv2d(3, 6, kernel_size=(3, 3), stride=(1, 1))\n",
            "  (pool): MaxPool2d(kernel_size=2, stride=2, padding=0, dilation=1, ceil_mode=False)\n",
            "  (conv2): Conv2d(6, 16, kernel_size=(3, 3), stride=(1, 1))\n",
            "  (fc1): Linear(in_features=576, out_features=120, bias=True)\n",
            "  (fc2): Linear(in_features=120, out_features=120, bias=True)\n",
            "  (fc3): Linear(in_features=120, out_features=10, bias=True)\n",
            ")\n"
          ],
          "name": "stdout"
        }
      ]
    },
    {
      "cell_type": "code",
      "metadata": {
        "id": "tHiBAOHXXA9x"
      },
      "source": [
        "net_3_valid = Net_3_VALID()\n",
        "if CUDA:\n",
        "    net_3_valid = net_3_valid.cuda()"
      ],
      "execution_count": 131,
      "outputs": []
    },
    {
      "cell_type": "code",
      "metadata": {
        "colab": {
          "base_uri": "https://localhost:8080/"
        },
        "id": "5NQblVbYXBSP",
        "outputId": "34c4ddd7-2a6f-41c3-ddbd-dadf4a9774ea"
      },
      "source": [
        "accuracy_3_valid = []\n",
        "\n",
        "for epoch in range(10):\n",
        "    running_loss = 0.0\n",
        "    for i, (inputs, labels) in enumerate(trainloader, 0):\n",
        "        if CUDA:\n",
        "            inputs = inputs.cuda()\n",
        "            labels = labels.cuda()\n",
        "        else:\n",
        "            inputs = inputs.cpu()\n",
        "            labels = labels.cpu()\n",
        "\n",
        "        optimizer.zero_grad()\n",
        "\n",
        "        outputs = net_3_valid(inputs)\n",
        "        # if i == 1:\n",
        "        #     print(outputs.size())\n",
        "        #     print(labels.size())\n",
        "        loss = criterion(outputs, labels)\n",
        "        loss.backward()\n",
        "        optimizer.step()\n",
        "\n",
        "        running_loss += loss.item()\n",
        "        if i % 2000 == 1999:\n",
        "          print('[epoch%d itr%5d] loss: %.3f' % (epoch+1, i+1, running_loss/2000))\n",
        "          running_loss = 0.0\n",
        "    \n",
        "    correct = 0\n",
        "    total = 0\n",
        "    with torch.no_grad():\n",
        "        for images, labels in testloader:\n",
        "            if CUDA:\n",
        "                images = images.cuda()\n",
        "                labels = labels.cuda()\n",
        "            else:\n",
        "                images = images.cpu()\n",
        "                labels = labels.cpu()\n",
        "\n",
        "            outputs = net_3_valid(images)\n",
        "            _, predicted = torch.max(outputs.data, 1)\n",
        "            total += labels.size(0)\n",
        "            if not CUDA:\n",
        "                correct += (predicted.cpu() == labels.cpu()).sum().item()\n",
        "            else:\n",
        "                correct += (predicted == labels).sum().item()\n",
        "\n",
        "        TestAccuracy = 100 * correct / total\n",
        "        accuracy_3_valid += [TestAccuracy]\n",
        "        print(\"Epoch=%d Test Accuracy=%.3f\" %\n",
        "              (epoch+1, TestAccuracy))\n",
        "        \n",
        "print(\"Finished Training with 3*3 filter in VALID convolution\")        "
      ],
      "execution_count": 132,
      "outputs": [
        {
          "output_type": "stream",
          "text": [
            "[epoch1 itr 2000] loss: 2.305\n",
            "[epoch1 itr 4000] loss: 2.304\n",
            "[epoch1 itr 6000] loss: 2.305\n",
            "[epoch1 itr 8000] loss: 2.306\n",
            "[epoch1 itr10000] loss: 2.304\n",
            "[epoch1 itr12000] loss: 2.305\n",
            "Epoch=1 Test Accuracy=10.000\n",
            "[epoch2 itr 2000] loss: 2.304\n",
            "[epoch2 itr 4000] loss: 2.304\n",
            "[epoch2 itr 6000] loss: 2.306\n",
            "[epoch2 itr 8000] loss: 2.304\n",
            "[epoch2 itr10000] loss: 2.304\n",
            "[epoch2 itr12000] loss: 2.305\n",
            "Epoch=2 Test Accuracy=10.000\n",
            "[epoch3 itr 2000] loss: 2.304\n",
            "[epoch3 itr 4000] loss: 2.305\n",
            "[epoch3 itr 6000] loss: 2.305\n",
            "[epoch3 itr 8000] loss: 2.305\n",
            "[epoch3 itr10000] loss: 2.305\n",
            "[epoch3 itr12000] loss: 2.304\n",
            "Epoch=3 Test Accuracy=10.000\n",
            "[epoch4 itr 2000] loss: 2.305\n",
            "[epoch4 itr 4000] loss: 2.305\n",
            "[epoch4 itr 6000] loss: 2.305\n",
            "[epoch4 itr 8000] loss: 2.305\n",
            "[epoch4 itr10000] loss: 2.304\n",
            "[epoch4 itr12000] loss: 2.304\n",
            "Epoch=4 Test Accuracy=10.000\n",
            "[epoch5 itr 2000] loss: 2.304\n",
            "[epoch5 itr 4000] loss: 2.305\n",
            "[epoch5 itr 6000] loss: 2.305\n",
            "[epoch5 itr 8000] loss: 2.305\n",
            "[epoch5 itr10000] loss: 2.305\n",
            "[epoch5 itr12000] loss: 2.305\n",
            "Epoch=5 Test Accuracy=10.000\n",
            "[epoch6 itr 2000] loss: 2.304\n",
            "[epoch6 itr 4000] loss: 2.305\n",
            "[epoch6 itr 6000] loss: 2.304\n",
            "[epoch6 itr 8000] loss: 2.306\n",
            "[epoch6 itr10000] loss: 2.305\n",
            "[epoch6 itr12000] loss: 2.304\n",
            "Epoch=6 Test Accuracy=10.000\n",
            "[epoch7 itr 2000] loss: 2.305\n",
            "[epoch7 itr 4000] loss: 2.304\n",
            "[epoch7 itr 6000] loss: 2.305\n",
            "[epoch7 itr 8000] loss: 2.305\n",
            "[epoch7 itr10000] loss: 2.305\n",
            "[epoch7 itr12000] loss: 2.304\n",
            "Epoch=7 Test Accuracy=10.000\n",
            "[epoch8 itr 2000] loss: 2.304\n",
            "[epoch8 itr 4000] loss: 2.304\n",
            "[epoch8 itr 6000] loss: 2.305\n",
            "[epoch8 itr 8000] loss: 2.305\n",
            "[epoch8 itr10000] loss: 2.304\n",
            "[epoch8 itr12000] loss: 2.305\n",
            "Epoch=8 Test Accuracy=10.000\n",
            "[epoch9 itr 2000] loss: 2.305\n",
            "[epoch9 itr 4000] loss: 2.304\n",
            "[epoch9 itr 6000] loss: 2.306\n",
            "[epoch9 itr 8000] loss: 2.305\n",
            "[epoch9 itr10000] loss: 2.304\n",
            "[epoch9 itr12000] loss: 2.305\n",
            "Epoch=9 Test Accuracy=10.000\n",
            "[epoch10 itr 2000] loss: 2.305\n",
            "[epoch10 itr 4000] loss: 2.305\n",
            "[epoch10 itr 6000] loss: 2.305\n",
            "[epoch10 itr 8000] loss: 2.305\n",
            "[epoch10 itr10000] loss: 2.304\n",
            "[epoch10 itr12000] loss: 2.305\n",
            "Epoch=10 Test Accuracy=10.000\n",
            "Finished Training with 5*5 filter in SAME convolution\n"
          ],
          "name": "stdout"
        }
      ]
    },
    {
      "cell_type": "markdown",
      "metadata": {
        "id": "XiQ56cFAaHpg"
      },
      "source": [
        "Network with 3*3 filter, SAME convolution"
      ]
    },
    {
      "cell_type": "code",
      "metadata": {
        "colab": {
          "base_uri": "https://localhost:8080/"
        },
        "id": "UL71uvIzaGla",
        "outputId": "f70d5e0f-e1e3-4179-aa6c-b22359533b48"
      },
      "source": [
        "class Net_3_SAME(nn.Module):\n",
        "    def __init__(self):\n",
        "        super(Net_3_SAME, self).__init__()\n",
        "        self.conv1 = nn.Conv2d(3, 6, 3, padding=1)\n",
        "        self.pool = nn.MaxPool2d(2, 2)\n",
        "        self.conv2 = nn.Conv2d(6, 16, 3, padding=1)\n",
        "        self.fc1 = nn.Linear(16*8*8, 120)\n",
        "        self.fc2 = nn.Linear(120, 120)\n",
        "        self.fc3 = nn.Linear(120, 10)\n",
        "\n",
        "    def forward(self, x):\n",
        "        x = self.pool(F.relu(self.conv1(x)))\n",
        "        x = self.pool(F.relu(self.conv2(x)))\n",
        "        x = x.view(-1, 16*8*8)\n",
        "        x = F.relu(self.fc1(x))\n",
        "        x = F.relu(self.fc2(x))\n",
        "        # x = F.softmax(self.fc3(x))\n",
        "        x = self.fc3(x)\n",
        "        return x\n",
        "\n",
        "print(Net_3_SAME())"
      ],
      "execution_count": 133,
      "outputs": [
        {
          "output_type": "stream",
          "text": [
            "Net_3_SAME(\n",
            "  (conv1): Conv2d(3, 6, kernel_size=(3, 3), stride=(1, 1), padding=(1, 1))\n",
            "  (pool): MaxPool2d(kernel_size=2, stride=2, padding=0, dilation=1, ceil_mode=False)\n",
            "  (conv2): Conv2d(6, 16, kernel_size=(3, 3), stride=(1, 1), padding=(1, 1))\n",
            "  (fc1): Linear(in_features=1024, out_features=120, bias=True)\n",
            "  (fc2): Linear(in_features=120, out_features=120, bias=True)\n",
            "  (fc3): Linear(in_features=120, out_features=10, bias=True)\n",
            ")\n"
          ],
          "name": "stdout"
        }
      ]
    },
    {
      "cell_type": "code",
      "metadata": {
        "id": "vez-ik5YaGln"
      },
      "source": [
        "net_3_same = Net_3_SAME()\n",
        "if CUDA:\n",
        "    net_3_same = net_3_same.cuda()"
      ],
      "execution_count": 134,
      "outputs": []
    },
    {
      "cell_type": "code",
      "metadata": {
        "colab": {
          "base_uri": "https://localhost:8080/"
        },
        "id": "Gs-bmPOzaGln",
        "outputId": "7ed651dd-5590-4a6c-9a5e-5b84611c5c8a"
      },
      "source": [
        "accuracy_3_same = []\n",
        "\n",
        "for epoch in range(10):\n",
        "    running_loss = 0.0\n",
        "    for i, (inputs, labels) in enumerate(trainloader, 0):\n",
        "        if CUDA:\n",
        "            inputs = inputs.cuda()\n",
        "            labels = labels.cuda()\n",
        "        else:\n",
        "            inputs = inputs.cpu()\n",
        "            labels = labels.cpu()\n",
        "\n",
        "        optimizer.zero_grad()\n",
        "\n",
        "        outputs = net_3_same(inputs)\n",
        "        loss = criterion(outputs, labels)\n",
        "        loss.backward()\n",
        "        optimizer.step()\n",
        "\n",
        "        running_loss += loss.item()\n",
        "        if i % 2000 == 1999:\n",
        "          print('[epoch%d itr%5d] loss: %.3f' % (epoch+1, i+1, running_loss/2000))\n",
        "          running_loss = 0.0\n",
        "    \n",
        "    correct = 0\n",
        "    total = 0\n",
        "    with torch.no_grad():\n",
        "        for images, labels in testloader:\n",
        "            if CUDA:\n",
        "                images = images.cuda()\n",
        "                labels = labels.cuda()\n",
        "            else:\n",
        "                images = images.cpu()\n",
        "                labels = labels.cpu()\n",
        "\n",
        "            outputs = net_3_same(images)\n",
        "            _, predicted = torch.max(outputs.data, 1)\n",
        "            total += labels.size(0)\n",
        "            if not CUDA:\n",
        "                correct += (predicted.cpu() == labels.cpu()).sum().item()\n",
        "            else:\n",
        "                correct += (predicted == labels).sum().item()\n",
        "\n",
        "        TestAccuracy = 100 * correct / total\n",
        "        accuracy_3_same += [TestAccuracy]\n",
        "        print(\"Epoch=%d Test Accuracy=%.3f\" %\n",
        "              (epoch+1, TestAccuracy))\n",
        "        \n",
        "print(\"Finished Training with 3*3 filter in SAME convolution\")        "
      ],
      "execution_count": 135,
      "outputs": [
        {
          "output_type": "stream",
          "text": [
            "[epoch1 itr 2000] loss: 2.304\n",
            "[epoch1 itr 4000] loss: 2.303\n",
            "[epoch1 itr 6000] loss: 2.303\n",
            "[epoch1 itr 8000] loss: 2.304\n",
            "[epoch1 itr10000] loss: 2.304\n",
            "[epoch1 itr12000] loss: 2.305\n",
            "Epoch=1 Test Accuracy=9.110\n",
            "[epoch2 itr 2000] loss: 2.303\n",
            "[epoch2 itr 4000] loss: 2.304\n",
            "[epoch2 itr 6000] loss: 2.304\n",
            "[epoch2 itr 8000] loss: 2.304\n",
            "[epoch2 itr10000] loss: 2.304\n",
            "[epoch2 itr12000] loss: 2.304\n",
            "Epoch=2 Test Accuracy=9.110\n",
            "[epoch3 itr 2000] loss: 2.304\n",
            "[epoch3 itr 4000] loss: 2.304\n",
            "[epoch3 itr 6000] loss: 2.304\n",
            "[epoch3 itr 8000] loss: 2.303\n",
            "[epoch3 itr10000] loss: 2.305\n",
            "[epoch3 itr12000] loss: 2.304\n",
            "Epoch=3 Test Accuracy=9.110\n",
            "[epoch4 itr 2000] loss: 2.303\n",
            "[epoch4 itr 4000] loss: 2.305\n",
            "[epoch4 itr 6000] loss: 2.304\n",
            "[epoch4 itr 8000] loss: 2.304\n",
            "[epoch4 itr10000] loss: 2.302\n",
            "[epoch4 itr12000] loss: 2.305\n",
            "Epoch=4 Test Accuracy=9.110\n",
            "[epoch5 itr 2000] loss: 2.304\n",
            "[epoch5 itr 4000] loss: 2.303\n",
            "[epoch5 itr 6000] loss: 2.304\n",
            "[epoch5 itr 8000] loss: 2.303\n",
            "[epoch5 itr10000] loss: 2.304\n",
            "[epoch5 itr12000] loss: 2.305\n",
            "Epoch=5 Test Accuracy=9.110\n",
            "[epoch6 itr 2000] loss: 2.304\n",
            "[epoch6 itr 4000] loss: 2.304\n",
            "[epoch6 itr 6000] loss: 2.304\n",
            "[epoch6 itr 8000] loss: 2.304\n",
            "[epoch6 itr10000] loss: 2.304\n",
            "[epoch6 itr12000] loss: 2.303\n",
            "Epoch=6 Test Accuracy=9.110\n",
            "[epoch7 itr 2000] loss: 2.304\n",
            "[epoch7 itr 4000] loss: 2.304\n",
            "[epoch7 itr 6000] loss: 2.306\n",
            "[epoch7 itr 8000] loss: 2.303\n",
            "[epoch7 itr10000] loss: 2.304\n",
            "[epoch7 itr12000] loss: 2.303\n",
            "Epoch=7 Test Accuracy=9.110\n",
            "[epoch8 itr 2000] loss: 2.305\n",
            "[epoch8 itr 4000] loss: 2.304\n",
            "[epoch8 itr 6000] loss: 2.304\n",
            "[epoch8 itr 8000] loss: 2.304\n",
            "[epoch8 itr10000] loss: 2.303\n",
            "[epoch8 itr12000] loss: 2.304\n",
            "Epoch=8 Test Accuracy=9.110\n",
            "[epoch9 itr 2000] loss: 2.304\n",
            "[epoch9 itr 4000] loss: 2.305\n",
            "[epoch9 itr 6000] loss: 2.304\n",
            "[epoch9 itr 8000] loss: 2.305\n",
            "[epoch9 itr10000] loss: 2.303\n",
            "[epoch9 itr12000] loss: 2.304\n",
            "Epoch=9 Test Accuracy=9.110\n",
            "[epoch10 itr 2000] loss: 2.304\n",
            "[epoch10 itr 4000] loss: 2.304\n",
            "[epoch10 itr 6000] loss: 2.304\n",
            "[epoch10 itr 8000] loss: 2.303\n",
            "[epoch10 itr10000] loss: 2.304\n",
            "[epoch10 itr12000] loss: 2.304\n",
            "Epoch=10 Test Accuracy=9.110\n",
            "Finished Training with 5*5 filter in SAME convolution\n"
          ],
          "name": "stdout"
        }
      ]
    },
    {
      "cell_type": "code",
      "metadata": {
        "colab": {
          "base_uri": "https://localhost:8080/",
          "height": 334
        },
        "id": "KKrFemaNaY-_",
        "outputId": "390874ea-f899-46a8-e70c-0d2fdebc9fed"
      },
      "source": [
        "# test plots\n",
        "import matplotlib.pyplot as plt\n",
        "import numpy as np\n",
        "\n",
        "print(\"Model with 5*5 filter (VALID): {0}\".format(accuracy_values))\n",
        "print(\"Model with 5*5 filter (SAME):{0}\".format(accuracy_5_same))\n",
        "print(\"Model with 3*3 filter (VALID):{0}\".format(accuracy_3_valid))\n",
        "print(\"Model with 3*3 filter (SAME):{0}\".format(accuracy_3_same))\n",
        "\n",
        "# Plot the data\n",
        "plt.plot(epoch_number, accuracy_values, label='CNN_5_valid')\n",
        "plt.plot(epoch_number, accuracy_5_same, label='CNN_5_same')\n",
        "plt.plot(epoch_number, accuracy_3_valid, label='CNN_3_valid')\n",
        "\n",
        "plt.plot(epoch_number, accuracy_3_same, label='CNN_3_same')\n",
        "\n",
        "# Add a legend\n",
        "plt.legend()\n",
        "\n",
        "# Show the plot\n",
        "plt.show()\n",
        "\n",
        "## Anything better than 10% accuracy (randomly picking a class out of 10 classes)\n",
        "# means the network has learned something."
      ],
      "execution_count": 136,
      "outputs": [
        {
          "output_type": "stream",
          "text": [
            "Model with 5*5 filter (VALID): [46.44, 54.48, 59.83, 60.15, 62.43, 62.83, 63.06, 63.14, 63.24, 62.89]\n",
            "Model with 5*5 filter (SAME):[10.0, 10.0, 10.0, 10.0, 10.0, 10.0, 10.0, 10.0, 10.0, 10.0]\n",
            "Model with 3*3 filter (VALID):[10.0, 10.0, 10.0, 10.0, 10.0, 10.0, 10.0, 10.0, 10.0, 10.0]\n",
            "Model with 3*3 filter (SAME):[9.11, 9.11, 9.11, 9.11, 9.11, 9.11, 9.11, 9.11, 9.11, 9.11]\n"
          ],
          "name": "stdout"
        },
        {
          "output_type": "display_data",
          "data": {
            "image/png": "[encoded data removed]",
            "text/plain": [
              "<Figure size 432x288 with 1 Axes>"
            ]
          },
          "metadata": {
            "tags": [],
            "needs_background": "light"
          }
        }
      ]
    },
    {
      "cell_type": "markdown",
      "metadata": {
        "id": "5ovuSCAMRJaB"
      },
      "source": [
        "#Additional code to explore the dataset and the trained model"
      ]
    },
    {
      "cell_type": "code",
      "metadata": {
        "id": "xPDRDas64btL"
      },
      "source": [
        "# Show some random training images\n",
        "\n",
        "import matplotlib.pyplot as plt\n",
        "import numpy as np\n",
        "\n",
        "# functions to show an image\n",
        "def imshow(img):\n",
        "    img = img / 2 + 0.5     # unnormalize\n",
        "    npimg = img.numpy()\n",
        "    plt.imshow(np.transpose(npimg, (1, 2, 0)))\n",
        "    plt.show()\n",
        "    \n",
        "# get some random training images\n",
        "dataiter = iter(trainloader)\n",
        "images, labels = dataiter.next()\n",
        "print(images.size())\n",
        "# show images\n",
        "imshow(torchvision.utils.make_grid(images))\n",
        "# print labels\n",
        "print(' '.join('%5s' % classes[labels[j]] for j in range(4)))"
      ],
      "execution_count": null,
      "outputs": []
    },
    {
      "cell_type": "code",
      "metadata": {
        "id": "mmQoiOSz46E2"
      },
      "source": [
        "# Test the network on some test images\n",
        "\n",
        "dataiter = iter(testloader)\n",
        "images, labels = dataiter.next()\n",
        "\n",
        "# print images\n",
        "imshow(torchvision.utils.make_grid(images))\n",
        "print('GroundTruth: ', ' '.join('%5s' % classes[labels[j]] for j in range(4)))\n",
        "\n",
        "# The outputs are energies for the 10 classes.\n",
        "# The higher the energy for a class, the more the network\n",
        "# thinks that the image is of the particular class.\n",
        "# So, let's get the index of the highest energy:\n",
        "outputs = net(images)\n",
        "_, predicted = torch.max(outputs, 1)\n",
        "\n",
        "print('Predicted: ', ' '.join('%5s' % classes[predicted[j]]\n",
        "                              for j in range(4)))\n"
      ],
      "execution_count": null,
      "outputs": []
    },
    {
      "cell_type": "code",
      "metadata": {
        "id": "aT8hcwhg5H7W"
      },
      "source": [
        "# Lets check what are the classes that performed well, and the classes that did\n",
        "# not perform well:\n",
        "\n",
        "class_correct = list(0. for i in range(10))\n",
        "class_total = list(0. for i in range(10))\n",
        "with torch.no_grad():\n",
        "    for images, labels in testloader:\n",
        "        if CUDA:\n",
        "          images =images.cuda()\n",
        "          labels =labels.cuda()\n",
        "        else:\n",
        "          images =images.cpu()\n",
        "          labels =labels.cpu()     \n",
        "      \n",
        "        outputs = net(images)\n",
        "        _, predicted = torch.max(outputs, 1)\n",
        "        c = (predicted == labels).squeeze()\n",
        "        for i in range(4):\n",
        "            label = labels[i]\n",
        "            class_correct[label] += c[i].item()\n",
        "            class_total[label] += 1\n",
        "\n",
        "\n",
        "for i in range(10):\n",
        "    print('Accuracy of %5s : %2d %%' % (\n",
        "        classes[i], 100 * class_correct[i] / class_total[i]))"
      ],
      "execution_count": null,
      "outputs": []
    },
    {
      "cell_type": "code",
      "metadata": {
        "id": "GdiZ2QrMTsA9"
      },
      "source": [
        ""
      ],
      "execution_count": null,
      "outputs": []
    }
  ]
}